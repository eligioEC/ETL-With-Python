{
 "cells": [
  {
   "cell_type": "code",
   "execution_count": 1,
   "id": "b9f7b4b2",
   "metadata": {},
   "outputs": [],
   "source": [
    "import os #Para direccionar la ruta de trabajo\n",
    "import glob  \n",
    "import pandas as pd  \n",
    "import xml.etree.ElementTree as ET  \n",
    "from datetime import datetime\n",
    "\n",
    "import warnings\n",
    "warnings.filterwarnings(\"ignore\")"
   ]
  },
  {
   "cell_type": "code",
   "execution_count": 2,
   "id": "c095f48e",
   "metadata": {},
   "outputs": [],
   "source": [
    "import sqlite3"
   ]
  },
  {
   "cell_type": "markdown",
   "id": "23ffdc3e",
   "metadata": {},
   "source": [
    "## Extracción"
   ]
  },
  {
   "cell_type": "code",
   "execution_count": 3,
   "id": "73501bcf",
   "metadata": {},
   "outputs": [],
   "source": [
    "def extract(csvfile,ruta):\n",
    "    os.chdir(ruta)\n",
    "    #df = pd.DataFrame()\n",
    "    #if csvfile in glob.glob(r\"C:\\Users\\ELIGIO\\Desktop\\EEC\\dataEngineer\\Data\\data\\proyecto\\*\"):\n",
    "    df = pd.read_csv(csvfile, sep = '|')\n",
    "    return df"
   ]
  },
  {
   "cell_type": "code",
   "execution_count": 4,
   "id": "0c8e85ff",
   "metadata": {},
   "outputs": [],
   "source": [
    "def extract_m(csvfile,ruta):\n",
    "    formato = csvfile.split('.')[1]\n",
    "    os.chdir(ruta)\n",
    "    if formato == \"csv\":\n",
    "        #df = pd.DataFrame()\n",
    "        #if csvfile in glob.glob(r\"C:\\Users\\ELIGIO\\Desktop\\EEC\\dataEngineer\\Data\\data\\proyecto\\*\"):\n",
    "        df = pd.read_csv(csvfile, sep = '|')\n",
    "        return df\n",
    "    if formato == \"json\":\n",
    "        df = pd.read_json(csvfile) \n",
    "        return df"
   ]
  },
  {
   "cell_type": "code",
   "execution_count": 5,
   "id": "5d44dbf2",
   "metadata": {},
   "outputs": [],
   "source": [
    "ruta = r\"C:\\Users\\ELIGIO\\Desktop\\EEC\\dataEngineer\\Data\\data\\proyecto\"\n",
    "#archivos = ['categories.csv','customer.json','departments.csv','order_items.csv','orders.csv','products.csv']\n"
   ]
  },
  {
   "cell_type": "code",
   "execution_count": 6,
   "id": "894e2fe8",
   "metadata": {},
   "outputs": [],
   "source": [
    "#archivo_cat  = 'categories.csv'\n",
    "#cat_df = extract_m(archivo_cat,ruta)\n",
    "#cat_df.head()"
   ]
  },
  {
   "cell_type": "code",
   "execution_count": 7,
   "id": "aac33fe3",
   "metadata": {},
   "outputs": [],
   "source": [
    "#archivo_cus  = 'customer.json'\n",
    "#cus_df = extract_m(archivo_cus,ruta)\n",
    "#cus_df.head()"
   ]
  },
  {
   "cell_type": "code",
   "execution_count": 8,
   "id": "e41eacea",
   "metadata": {},
   "outputs": [],
   "source": [
    "#archivo_depa  = 'departments.csv'\n",
    "#depa_df = extract_m(archivo_depa,ruta)\n",
    "#depa_df.head()"
   ]
  },
  {
   "cell_type": "code",
   "execution_count": 9,
   "id": "1d75408c",
   "metadata": {},
   "outputs": [],
   "source": [
    "#archivo_oi  = 'order_items.csv'\n",
    "#cat_oi = extract_m(archivo_oi,ruta)\n",
    "#cat_oi.head()"
   ]
  },
  {
   "cell_type": "code",
   "execution_count": 10,
   "id": "5c4abd95",
   "metadata": {},
   "outputs": [],
   "source": [
    "#archivo_o  = 'orders.csv'\n",
    "#cat_o = extract_m(archivo_o,ruta)\n",
    "#cat_o.head()"
   ]
  },
  {
   "cell_type": "code",
   "execution_count": 11,
   "id": "c3e953ad",
   "metadata": {},
   "outputs": [],
   "source": [
    "#archivo_prod  = 'products.csv'\n",
    "#prod_prod = extract_m(archivo_prod,ruta)\n",
    "#prod_prod.head"
   ]
  },
  {
   "cell_type": "code",
   "execution_count": 12,
   "id": "e59b15a5",
   "metadata": {},
   "outputs": [],
   "source": [
    "#ruta = r\"C:\\Users\\ELIGIO\\Desktop\\EEC\\dataEngineer\\Data\\data\"\n",
    "#archivod = \"customer.json\"\n",
    "#df_archivo_j = extract_m(archivod, ruta)"
   ]
  },
  {
   "cell_type": "code",
   "execution_count": 13,
   "id": "d4bbfaaf",
   "metadata": {},
   "outputs": [],
   "source": [
    "archivos=['categories.csv','customer.json','departments.csv','order_items.csv','orders.csv','products.csv']\n",
    "arreglo =[]\n",
    "for arc in(archivos):\n",
    "    arreglo.append(extract_m(arc,ruta))"
   ]
  },
  {
   "cell_type": "markdown",
   "id": "8ad232ca",
   "metadata": {},
   "source": [
    "#### Limpieza de datos"
   ]
  },
  {
   "cell_type": "code",
   "execution_count": 14,
   "id": "e0751778",
   "metadata": {
    "scrolled": true
   },
   "outputs": [],
   "source": [
    "df_cat = arreglo[0]"
   ]
  },
  {
   "cell_type": "code",
   "execution_count": 15,
   "id": "00409a08",
   "metadata": {},
   "outputs": [
    {
     "data": {
      "text/html": [
       "<div>\n",
       "<style scoped>\n",
       "    .dataframe tbody tr th:only-of-type {\n",
       "        vertical-align: middle;\n",
       "    }\n",
       "\n",
       "    .dataframe tbody tr th {\n",
       "        vertical-align: top;\n",
       "    }\n",
       "\n",
       "    .dataframe thead th {\n",
       "        text-align: right;\n",
       "    }\n",
       "</style>\n",
       "<table border=\"1\" class=\"dataframe\">\n",
       "  <thead>\n",
       "    <tr style=\"text-align: right;\">\n",
       "      <th></th>\n",
       "      <th>category_id</th>\n",
       "      <th>category_departament_id</th>\n",
       "      <th>category_name</th>\n",
       "    </tr>\n",
       "  </thead>\n",
       "  <tbody>\n",
       "    <tr>\n",
       "      <th>0</th>\n",
       "      <td>2</td>\n",
       "      <td>2</td>\n",
       "      <td>Soccer</td>\n",
       "    </tr>\n",
       "    <tr>\n",
       "      <th>1</th>\n",
       "      <td>3</td>\n",
       "      <td>2</td>\n",
       "      <td>Baseball &amp; Softball</td>\n",
       "    </tr>\n",
       "    <tr>\n",
       "      <th>2</th>\n",
       "      <td>4</td>\n",
       "      <td>2</td>\n",
       "      <td>Basketball</td>\n",
       "    </tr>\n",
       "    <tr>\n",
       "      <th>3</th>\n",
       "      <td>5</td>\n",
       "      <td>2</td>\n",
       "      <td>Lacrosse</td>\n",
       "    </tr>\n",
       "    <tr>\n",
       "      <th>4</th>\n",
       "      <td>6</td>\n",
       "      <td>2</td>\n",
       "      <td>Tennis &amp; Racquet</td>\n",
       "    </tr>\n",
       "  </tbody>\n",
       "</table>\n",
       "</div>"
      ],
      "text/plain": [
       "   category_id  category_departament_id        category_name\n",
       "0            2                        2               Soccer\n",
       "1            3                        2  Baseball & Softball\n",
       "2            4                        2           Basketball\n",
       "3            5                        2             Lacrosse\n",
       "4            6                        2     Tennis & Racquet"
      ]
     },
     "execution_count": 15,
     "metadata": {},
     "output_type": "execute_result"
    }
   ],
   "source": [
    "df_cat.columns = ['category_id','category_departament_id','category_name']\n",
    "df_cat.head()"
   ]
  },
  {
   "cell_type": "code",
   "execution_count": 16,
   "id": "ced94e03",
   "metadata": {
    "scrolled": true
   },
   "outputs": [
    {
     "data": {
      "text/html": [
       "<div>\n",
       "<style scoped>\n",
       "    .dataframe tbody tr th:only-of-type {\n",
       "        vertical-align: middle;\n",
       "    }\n",
       "\n",
       "    .dataframe tbody tr th {\n",
       "        vertical-align: top;\n",
       "    }\n",
       "\n",
       "    .dataframe thead th {\n",
       "        text-align: right;\n",
       "    }\n",
       "</style>\n",
       "<table border=\"1\" class=\"dataframe\">\n",
       "  <thead>\n",
       "    <tr style=\"text-align: right;\">\n",
       "      <th></th>\n",
       "      <th>id</th>\n",
       "      <th>email</th>\n",
       "      <th>first</th>\n",
       "      <th>last</th>\n",
       "      <th>company</th>\n",
       "      <th>created_at</th>\n",
       "      <th>country</th>\n",
       "    </tr>\n",
       "  </thead>\n",
       "  <tbody>\n",
       "    <tr>\n",
       "      <th>0</th>\n",
       "      <td>1</td>\n",
       "      <td>isidro_von@hotmail.com</td>\n",
       "      <td>Torrey</td>\n",
       "      <td>Veum</td>\n",
       "      <td>Hilll, Mayert and Wolf</td>\n",
       "      <td>2014-12-25 04:06:27.981000+00:00</td>\n",
       "      <td>Switzerland</td>\n",
       "    </tr>\n",
       "    <tr>\n",
       "      <th>1</th>\n",
       "      <td>2</td>\n",
       "      <td>frederique19@gmail.com</td>\n",
       "      <td>Micah</td>\n",
       "      <td>Sanford</td>\n",
       "      <td>Stokes-Reichel</td>\n",
       "      <td>2014-07-03 16:08:17.044000+00:00</td>\n",
       "      <td>Democratic People's Republic of Korea</td>\n",
       "    </tr>\n",
       "    <tr>\n",
       "      <th>2</th>\n",
       "      <td>3</td>\n",
       "      <td>fredy54@gmail.com</td>\n",
       "      <td>Hollis</td>\n",
       "      <td>Swift</td>\n",
       "      <td>Rodriguez, Cartwright and Kuhn</td>\n",
       "      <td>2014-08-18 06:15:16.731000+00:00</td>\n",
       "      <td>Tunisia</td>\n",
       "    </tr>\n",
       "    <tr>\n",
       "      <th>3</th>\n",
       "      <td>4</td>\n",
       "      <td>braxton29@hotmail.com</td>\n",
       "      <td>Perry</td>\n",
       "      <td>Leffler</td>\n",
       "      <td>Sipes, Feeney and Hansen</td>\n",
       "      <td>2014-07-10 11:31:40.235000+00:00</td>\n",
       "      <td>Chad</td>\n",
       "    </tr>\n",
       "    <tr>\n",
       "      <th>4</th>\n",
       "      <td>5</td>\n",
       "      <td>turner59@gmail.com</td>\n",
       "      <td>Janelle</td>\n",
       "      <td>Hagenes</td>\n",
       "      <td>Lesch and Daughters</td>\n",
       "      <td>2014-04-21 15:05:43.229000+00:00</td>\n",
       "      <td>Swaziland</td>\n",
       "    </tr>\n",
       "  </tbody>\n",
       "</table>\n",
       "</div>"
      ],
      "text/plain": [
       "   id                   email    first     last  \\\n",
       "0   1  isidro_von@hotmail.com   Torrey     Veum   \n",
       "1   2  frederique19@gmail.com    Micah  Sanford   \n",
       "2   3       fredy54@gmail.com   Hollis    Swift   \n",
       "3   4   braxton29@hotmail.com    Perry  Leffler   \n",
       "4   5      turner59@gmail.com  Janelle  Hagenes   \n",
       "\n",
       "                          company                       created_at  \\\n",
       "0          Hilll, Mayert and Wolf 2014-12-25 04:06:27.981000+00:00   \n",
       "1                  Stokes-Reichel 2014-07-03 16:08:17.044000+00:00   \n",
       "2  Rodriguez, Cartwright and Kuhn 2014-08-18 06:15:16.731000+00:00   \n",
       "3        Sipes, Feeney and Hansen 2014-07-10 11:31:40.235000+00:00   \n",
       "4             Lesch and Daughters 2014-04-21 15:05:43.229000+00:00   \n",
       "\n",
       "                                 country  \n",
       "0                            Switzerland  \n",
       "1  Democratic People's Republic of Korea  \n",
       "2                                Tunisia  \n",
       "3                                   Chad  \n",
       "4                              Swaziland  "
      ]
     },
     "execution_count": 16,
     "metadata": {},
     "output_type": "execute_result"
    }
   ],
   "source": [
    "df_custom = arreglo[1]\n",
    "#df_custom.columns = ['id','name','lastname','password','password1','adress','city','state','customer_zipcode']\n",
    "df_custom.head()"
   ]
  },
  {
   "cell_type": "code",
   "execution_count": 17,
   "id": "9540cbae",
   "metadata": {},
   "outputs": [],
   "source": [
    "df_depa = arreglo[2]"
   ]
  },
  {
   "cell_type": "code",
   "execution_count": 18,
   "id": "0f493df9",
   "metadata": {},
   "outputs": [
    {
     "data": {
      "text/html": [
       "<div>\n",
       "<style scoped>\n",
       "    .dataframe tbody tr th:only-of-type {\n",
       "        vertical-align: middle;\n",
       "    }\n",
       "\n",
       "    .dataframe tbody tr th {\n",
       "        vertical-align: top;\n",
       "    }\n",
       "\n",
       "    .dataframe thead th {\n",
       "        text-align: right;\n",
       "    }\n",
       "</style>\n",
       "<table border=\"1\" class=\"dataframe\">\n",
       "  <thead>\n",
       "    <tr style=\"text-align: right;\">\n",
       "      <th></th>\n",
       "      <th>department_id</th>\n",
       "      <th>department_name</th>\n",
       "    </tr>\n",
       "  </thead>\n",
       "  <tbody>\n",
       "    <tr>\n",
       "      <th>0</th>\n",
       "      <td>3</td>\n",
       "      <td>Footwear</td>\n",
       "    </tr>\n",
       "    <tr>\n",
       "      <th>1</th>\n",
       "      <td>4</td>\n",
       "      <td>Apparel</td>\n",
       "    </tr>\n",
       "    <tr>\n",
       "      <th>2</th>\n",
       "      <td>5</td>\n",
       "      <td>Golf</td>\n",
       "    </tr>\n",
       "    <tr>\n",
       "      <th>3</th>\n",
       "      <td>6</td>\n",
       "      <td>Outdoors</td>\n",
       "    </tr>\n",
       "    <tr>\n",
       "      <th>4</th>\n",
       "      <td>7</td>\n",
       "      <td>Fan Shop</td>\n",
       "    </tr>\n",
       "  </tbody>\n",
       "</table>\n",
       "</div>"
      ],
      "text/plain": [
       "   department_id department_name\n",
       "0              3        Footwear\n",
       "1              4         Apparel\n",
       "2              5            Golf\n",
       "3              6        Outdoors\n",
       "4              7        Fan Shop"
      ]
     },
     "execution_count": 18,
     "metadata": {},
     "output_type": "execute_result"
    }
   ],
   "source": [
    "df_depa.columns = ['department_id','department_name']\n",
    "df_depa.head()"
   ]
  },
  {
   "cell_type": "code",
   "execution_count": 19,
   "id": "24e674f2",
   "metadata": {
    "scrolled": true
   },
   "outputs": [],
   "source": [
    "df_oi = arreglo[3]"
   ]
  },
  {
   "cell_type": "code",
   "execution_count": 20,
   "id": "17ee200f",
   "metadata": {},
   "outputs": [
    {
     "data": {
      "text/html": [
       "<div>\n",
       "<style scoped>\n",
       "    .dataframe tbody tr th:only-of-type {\n",
       "        vertical-align: middle;\n",
       "    }\n",
       "\n",
       "    .dataframe tbody tr th {\n",
       "        vertical-align: top;\n",
       "    }\n",
       "\n",
       "    .dataframe thead th {\n",
       "        text-align: right;\n",
       "    }\n",
       "</style>\n",
       "<table border=\"1\" class=\"dataframe\">\n",
       "  <thead>\n",
       "    <tr style=\"text-align: right;\">\n",
       "      <th></th>\n",
       "      <th>order_item_id</th>\n",
       "      <th>order_item_order_id</th>\n",
       "      <th>order_item_product_id</th>\n",
       "      <th>order_item_quantity</th>\n",
       "      <th>order_item_subtotal</th>\n",
       "      <th>order_item_productprice</th>\n",
       "    </tr>\n",
       "  </thead>\n",
       "  <tbody>\n",
       "    <tr>\n",
       "      <th>0</th>\n",
       "      <td>2</td>\n",
       "      <td>2</td>\n",
       "      <td>1073</td>\n",
       "      <td>1</td>\n",
       "      <td>199.99</td>\n",
       "      <td>199.99</td>\n",
       "    </tr>\n",
       "    <tr>\n",
       "      <th>1</th>\n",
       "      <td>3</td>\n",
       "      <td>2</td>\n",
       "      <td>502</td>\n",
       "      <td>5</td>\n",
       "      <td>250.00</td>\n",
       "      <td>50.00</td>\n",
       "    </tr>\n",
       "    <tr>\n",
       "      <th>2</th>\n",
       "      <td>4</td>\n",
       "      <td>2</td>\n",
       "      <td>403</td>\n",
       "      <td>1</td>\n",
       "      <td>129.99</td>\n",
       "      <td>129.99</td>\n",
       "    </tr>\n",
       "    <tr>\n",
       "      <th>3</th>\n",
       "      <td>5</td>\n",
       "      <td>4</td>\n",
       "      <td>897</td>\n",
       "      <td>2</td>\n",
       "      <td>49.98</td>\n",
       "      <td>24.99</td>\n",
       "    </tr>\n",
       "    <tr>\n",
       "      <th>4</th>\n",
       "      <td>6</td>\n",
       "      <td>4</td>\n",
       "      <td>365</td>\n",
       "      <td>5</td>\n",
       "      <td>299.95</td>\n",
       "      <td>59.99</td>\n",
       "    </tr>\n",
       "  </tbody>\n",
       "</table>\n",
       "</div>"
      ],
      "text/plain": [
       "   order_item_id  order_item_order_id  order_item_product_id  \\\n",
       "0              2                    2                   1073   \n",
       "1              3                    2                    502   \n",
       "2              4                    2                    403   \n",
       "3              5                    4                    897   \n",
       "4              6                    4                    365   \n",
       "\n",
       "   order_item_quantity  order_item_subtotal  order_item_productprice  \n",
       "0                    1               199.99                   199.99  \n",
       "1                    5               250.00                    50.00  \n",
       "2                    1               129.99                   129.99  \n",
       "3                    2                49.98                    24.99  \n",
       "4                    5               299.95                    59.99  "
      ]
     },
     "execution_count": 20,
     "metadata": {},
     "output_type": "execute_result"
    }
   ],
   "source": [
    "df_oi.columns = ['order_item_id','order_item_order_id','order_item_product_id','order_item_quantity','order_item_subtotal','order_item_productprice']\n",
    "df_oi.head()"
   ]
  },
  {
   "cell_type": "code",
   "execution_count": 21,
   "id": "395d4763",
   "metadata": {},
   "outputs": [],
   "source": [
    "df_o = arreglo[4]"
   ]
  },
  {
   "cell_type": "code",
   "execution_count": 22,
   "id": "34d741c0",
   "metadata": {},
   "outputs": [
    {
     "data": {
      "text/html": [
       "<div>\n",
       "<style scoped>\n",
       "    .dataframe tbody tr th:only-of-type {\n",
       "        vertical-align: middle;\n",
       "    }\n",
       "\n",
       "    .dataframe tbody tr th {\n",
       "        vertical-align: top;\n",
       "    }\n",
       "\n",
       "    .dataframe thead th {\n",
       "        text-align: right;\n",
       "    }\n",
       "</style>\n",
       "<table border=\"1\" class=\"dataframe\">\n",
       "  <thead>\n",
       "    <tr style=\"text-align: right;\">\n",
       "      <th></th>\n",
       "      <th>order_id</th>\n",
       "      <th>order_date</th>\n",
       "      <th>order_customer_id</th>\n",
       "      <th>order_status</th>\n",
       "    </tr>\n",
       "  </thead>\n",
       "  <tbody>\n",
       "    <tr>\n",
       "      <th>0</th>\n",
       "      <td>2</td>\n",
       "      <td>2013-07-25 00:00:00.0</td>\n",
       "      <td>256</td>\n",
       "      <td>PENDING_PAYMENT</td>\n",
       "    </tr>\n",
       "    <tr>\n",
       "      <th>1</th>\n",
       "      <td>3</td>\n",
       "      <td>2013-07-25 00:00:00.0</td>\n",
       "      <td>12111</td>\n",
       "      <td>COMPLETE</td>\n",
       "    </tr>\n",
       "    <tr>\n",
       "      <th>2</th>\n",
       "      <td>4</td>\n",
       "      <td>2013-07-25 00:00:00.0</td>\n",
       "      <td>8827</td>\n",
       "      <td>CLOSED</td>\n",
       "    </tr>\n",
       "    <tr>\n",
       "      <th>3</th>\n",
       "      <td>5</td>\n",
       "      <td>2013-07-25 00:00:00.0</td>\n",
       "      <td>11318</td>\n",
       "      <td>COMPLETE</td>\n",
       "    </tr>\n",
       "    <tr>\n",
       "      <th>4</th>\n",
       "      <td>6</td>\n",
       "      <td>2013-07-25 00:00:00.0</td>\n",
       "      <td>7130</td>\n",
       "      <td>COMPLETE</td>\n",
       "    </tr>\n",
       "  </tbody>\n",
       "</table>\n",
       "</div>"
      ],
      "text/plain": [
       "   order_id             order_date  order_customer_id     order_status\n",
       "0         2  2013-07-25 00:00:00.0                256  PENDING_PAYMENT\n",
       "1         3  2013-07-25 00:00:00.0              12111         COMPLETE\n",
       "2         4  2013-07-25 00:00:00.0               8827           CLOSED\n",
       "3         5  2013-07-25 00:00:00.0              11318         COMPLETE\n",
       "4         6  2013-07-25 00:00:00.0               7130         COMPLETE"
      ]
     },
     "execution_count": 22,
     "metadata": {},
     "output_type": "execute_result"
    }
   ],
   "source": [
    "df_o.columns = ['order_id','order_date','order_customer_id','order_status']\n",
    "df_o.head()"
   ]
  },
  {
   "cell_type": "code",
   "execution_count": 23,
   "id": "723d89d6",
   "metadata": {
    "scrolled": false
   },
   "outputs": [],
   "source": [
    "df_prod = arreglo[5]\n",
    "#prod_prod.drop(['Unnamed:3'], axis = 'columns', inplace=True)"
   ]
  },
  {
   "cell_type": "code",
   "execution_count": 24,
   "id": "5a4ab0dd",
   "metadata": {},
   "outputs": [],
   "source": [
    "df_prod.columns = ['product_id','product_category_id','product_name','product_description','product_price','product_image']"
   ]
  },
  {
   "cell_type": "code",
   "execution_count": 25,
   "id": "106ae164",
   "metadata": {},
   "outputs": [
    {
     "data": {
      "text/html": [
       "<div>\n",
       "<style scoped>\n",
       "    .dataframe tbody tr th:only-of-type {\n",
       "        vertical-align: middle;\n",
       "    }\n",
       "\n",
       "    .dataframe tbody tr th {\n",
       "        vertical-align: top;\n",
       "    }\n",
       "\n",
       "    .dataframe thead th {\n",
       "        text-align: right;\n",
       "    }\n",
       "</style>\n",
       "<table border=\"1\" class=\"dataframe\">\n",
       "  <thead>\n",
       "    <tr style=\"text-align: right;\">\n",
       "      <th></th>\n",
       "      <th>product_id</th>\n",
       "      <th>product_category_id</th>\n",
       "      <th>product_name</th>\n",
       "      <th>product_price</th>\n",
       "      <th>product_image</th>\n",
       "    </tr>\n",
       "  </thead>\n",
       "  <tbody>\n",
       "    <tr>\n",
       "      <th>0</th>\n",
       "      <td>2</td>\n",
       "      <td>2</td>\n",
       "      <td>Under Armour Men's Highlight MC Football Clea</td>\n",
       "      <td>129.99</td>\n",
       "      <td>http://images.acmesports.sports/Under+Armour+M...</td>\n",
       "    </tr>\n",
       "    <tr>\n",
       "      <th>1</th>\n",
       "      <td>3</td>\n",
       "      <td>2</td>\n",
       "      <td>Under Armour Men's Renegade D Mid Football Cl</td>\n",
       "      <td>89.99</td>\n",
       "      <td>http://images.acmesports.sports/Under+Armour+M...</td>\n",
       "    </tr>\n",
       "    <tr>\n",
       "      <th>2</th>\n",
       "      <td>4</td>\n",
       "      <td>2</td>\n",
       "      <td>Under Armour Men's Renegade D Mid Football Cl</td>\n",
       "      <td>89.99</td>\n",
       "      <td>http://images.acmesports.sports/Under+Armour+M...</td>\n",
       "    </tr>\n",
       "    <tr>\n",
       "      <th>3</th>\n",
       "      <td>5</td>\n",
       "      <td>2</td>\n",
       "      <td>Riddell Youth Revolution Speed Custom Footbal</td>\n",
       "      <td>199.99</td>\n",
       "      <td>http://images.acmesports.sports/Riddell+Youth+...</td>\n",
       "    </tr>\n",
       "    <tr>\n",
       "      <th>4</th>\n",
       "      <td>6</td>\n",
       "      <td>2</td>\n",
       "      <td>Jordan Men's VI Retro TD Football Cleat</td>\n",
       "      <td>134.99</td>\n",
       "      <td>http://images.acmesports.sports/Jordan+Men%27s...</td>\n",
       "    </tr>\n",
       "  </tbody>\n",
       "</table>\n",
       "</div>"
      ],
      "text/plain": [
       "   product_id  product_category_id  \\\n",
       "0           2                    2   \n",
       "1           3                    2   \n",
       "2           4                    2   \n",
       "3           5                    2   \n",
       "4           6                    2   \n",
       "\n",
       "                                    product_name  product_price  \\\n",
       "0  Under Armour Men's Highlight MC Football Clea         129.99   \n",
       "1  Under Armour Men's Renegade D Mid Football Cl          89.99   \n",
       "2  Under Armour Men's Renegade D Mid Football Cl          89.99   \n",
       "3  Riddell Youth Revolution Speed Custom Footbal         199.99   \n",
       "4        Jordan Men's VI Retro TD Football Cleat         134.99   \n",
       "\n",
       "                                       product_image  \n",
       "0  http://images.acmesports.sports/Under+Armour+M...  \n",
       "1  http://images.acmesports.sports/Under+Armour+M...  \n",
       "2  http://images.acmesports.sports/Under+Armour+M...  \n",
       "3  http://images.acmesports.sports/Riddell+Youth+...  \n",
       "4  http://images.acmesports.sports/Jordan+Men%27s...  "
      ]
     },
     "execution_count": 25,
     "metadata": {},
     "output_type": "execute_result"
    }
   ],
   "source": [
    "df_prod.drop(['product_description'], axis = 'columns', inplace=True)\n",
    "df_prod.head()"
   ]
  },
  {
   "cell_type": "markdown",
   "id": "a2e3bb96",
   "metadata": {},
   "source": [
    "## Transformacion"
   ]
  },
  {
   "cell_type": "code",
   "execution_count": 26,
   "id": "a520394d",
   "metadata": {
    "scrolled": true
   },
   "outputs": [],
   "source": [
    "df_hechos_1 = df_custom.merge(df_o, left_on= ['id'], right_on = ['order_customer_id'], how='left').merge(df_oi, left_on= ['order_id'], right_on = ['order_item_order_id'], how='left')"
   ]
  },
  {
   "cell_type": "code",
   "execution_count": 27,
   "id": "745dd601",
   "metadata": {},
   "outputs": [
    {
     "data": {
      "text/html": [
       "<div>\n",
       "<style scoped>\n",
       "    .dataframe tbody tr th:only-of-type {\n",
       "        vertical-align: middle;\n",
       "    }\n",
       "\n",
       "    .dataframe tbody tr th {\n",
       "        vertical-align: top;\n",
       "    }\n",
       "\n",
       "    .dataframe thead th {\n",
       "        text-align: right;\n",
       "    }\n",
       "</style>\n",
       "<table border=\"1\" class=\"dataframe\">\n",
       "  <thead>\n",
       "    <tr style=\"text-align: right;\">\n",
       "      <th></th>\n",
       "      <th>id</th>\n",
       "      <th>email</th>\n",
       "      <th>first</th>\n",
       "      <th>last</th>\n",
       "      <th>company</th>\n",
       "      <th>created_at</th>\n",
       "      <th>country</th>\n",
       "      <th>order_id</th>\n",
       "      <th>order_date</th>\n",
       "      <th>order_customer_id</th>\n",
       "      <th>order_status</th>\n",
       "      <th>order_item_id</th>\n",
       "      <th>order_item_order_id</th>\n",
       "      <th>order_item_product_id</th>\n",
       "      <th>order_item_quantity</th>\n",
       "      <th>order_item_subtotal</th>\n",
       "      <th>order_item_productprice</th>\n",
       "    </tr>\n",
       "  </thead>\n",
       "  <tbody>\n",
       "    <tr>\n",
       "      <th>0</th>\n",
       "      <td>1</td>\n",
       "      <td>isidro_von@hotmail.com</td>\n",
       "      <td>Torrey</td>\n",
       "      <td>Veum</td>\n",
       "      <td>Hilll, Mayert and Wolf</td>\n",
       "      <td>2014-12-25 04:06:27.981000+00:00</td>\n",
       "      <td>Switzerland</td>\n",
       "      <td>22945.0</td>\n",
       "      <td>2013-12-13 00:00:00.0</td>\n",
       "      <td>1.0</td>\n",
       "      <td>COMPLETE</td>\n",
       "      <td>57439.0</td>\n",
       "      <td>22945.0</td>\n",
       "      <td>191.0</td>\n",
       "      <td>5.0</td>\n",
       "      <td>499.95</td>\n",
       "      <td>99.99</td>\n",
       "    </tr>\n",
       "    <tr>\n",
       "      <th>1</th>\n",
       "      <td>2</td>\n",
       "      <td>frederique19@gmail.com</td>\n",
       "      <td>Micah</td>\n",
       "      <td>Sanford</td>\n",
       "      <td>Stokes-Reichel</td>\n",
       "      <td>2014-07-03 16:08:17.044000+00:00</td>\n",
       "      <td>Democratic People's Republic of Korea</td>\n",
       "      <td>15192.0</td>\n",
       "      <td>2013-10-29 00:00:00.0</td>\n",
       "      <td>2.0</td>\n",
       "      <td>PENDING_PAYMENT</td>\n",
       "      <td>38007.0</td>\n",
       "      <td>15192.0</td>\n",
       "      <td>1014.0</td>\n",
       "      <td>2.0</td>\n",
       "      <td>99.96</td>\n",
       "      <td>49.98</td>\n",
       "    </tr>\n",
       "    <tr>\n",
       "      <th>2</th>\n",
       "      <td>2</td>\n",
       "      <td>frederique19@gmail.com</td>\n",
       "      <td>Micah</td>\n",
       "      <td>Sanford</td>\n",
       "      <td>Stokes-Reichel</td>\n",
       "      <td>2014-07-03 16:08:17.044000+00:00</td>\n",
       "      <td>Democratic People's Republic of Korea</td>\n",
       "      <td>33865.0</td>\n",
       "      <td>2014-02-18 00:00:00.0</td>\n",
       "      <td>2.0</td>\n",
       "      <td>COMPLETE</td>\n",
       "      <td>84536.0</td>\n",
       "      <td>33865.0</td>\n",
       "      <td>957.0</td>\n",
       "      <td>1.0</td>\n",
       "      <td>299.98</td>\n",
       "      <td>299.98</td>\n",
       "    </tr>\n",
       "    <tr>\n",
       "      <th>3</th>\n",
       "      <td>2</td>\n",
       "      <td>frederique19@gmail.com</td>\n",
       "      <td>Micah</td>\n",
       "      <td>Sanford</td>\n",
       "      <td>Stokes-Reichel</td>\n",
       "      <td>2014-07-03 16:08:17.044000+00:00</td>\n",
       "      <td>Democratic People's Republic of Korea</td>\n",
       "      <td>33865.0</td>\n",
       "      <td>2014-02-18 00:00:00.0</td>\n",
       "      <td>2.0</td>\n",
       "      <td>COMPLETE</td>\n",
       "      <td>84537.0</td>\n",
       "      <td>33865.0</td>\n",
       "      <td>1073.0</td>\n",
       "      <td>1.0</td>\n",
       "      <td>199.99</td>\n",
       "      <td>199.99</td>\n",
       "    </tr>\n",
       "    <tr>\n",
       "      <th>4</th>\n",
       "      <td>2</td>\n",
       "      <td>frederique19@gmail.com</td>\n",
       "      <td>Micah</td>\n",
       "      <td>Sanford</td>\n",
       "      <td>Stokes-Reichel</td>\n",
       "      <td>2014-07-03 16:08:17.044000+00:00</td>\n",
       "      <td>Democratic People's Republic of Korea</td>\n",
       "      <td>33865.0</td>\n",
       "      <td>2014-02-18 00:00:00.0</td>\n",
       "      <td>2.0</td>\n",
       "      <td>COMPLETE</td>\n",
       "      <td>84538.0</td>\n",
       "      <td>33865.0</td>\n",
       "      <td>502.0</td>\n",
       "      <td>1.0</td>\n",
       "      <td>50.00</td>\n",
       "      <td>50.00</td>\n",
       "    </tr>\n",
       "  </tbody>\n",
       "</table>\n",
       "</div>"
      ],
      "text/plain": [
       "   id                   email   first     last                 company  \\\n",
       "0   1  isidro_von@hotmail.com  Torrey     Veum  Hilll, Mayert and Wolf   \n",
       "1   2  frederique19@gmail.com   Micah  Sanford          Stokes-Reichel   \n",
       "2   2  frederique19@gmail.com   Micah  Sanford          Stokes-Reichel   \n",
       "3   2  frederique19@gmail.com   Micah  Sanford          Stokes-Reichel   \n",
       "4   2  frederique19@gmail.com   Micah  Sanford          Stokes-Reichel   \n",
       "\n",
       "                        created_at                                country  \\\n",
       "0 2014-12-25 04:06:27.981000+00:00                            Switzerland   \n",
       "1 2014-07-03 16:08:17.044000+00:00  Democratic People's Republic of Korea   \n",
       "2 2014-07-03 16:08:17.044000+00:00  Democratic People's Republic of Korea   \n",
       "3 2014-07-03 16:08:17.044000+00:00  Democratic People's Republic of Korea   \n",
       "4 2014-07-03 16:08:17.044000+00:00  Democratic People's Republic of Korea   \n",
       "\n",
       "   order_id             order_date  order_customer_id     order_status  \\\n",
       "0   22945.0  2013-12-13 00:00:00.0                1.0         COMPLETE   \n",
       "1   15192.0  2013-10-29 00:00:00.0                2.0  PENDING_PAYMENT   \n",
       "2   33865.0  2014-02-18 00:00:00.0                2.0         COMPLETE   \n",
       "3   33865.0  2014-02-18 00:00:00.0                2.0         COMPLETE   \n",
       "4   33865.0  2014-02-18 00:00:00.0                2.0         COMPLETE   \n",
       "\n",
       "   order_item_id  order_item_order_id  order_item_product_id  \\\n",
       "0        57439.0              22945.0                  191.0   \n",
       "1        38007.0              15192.0                 1014.0   \n",
       "2        84536.0              33865.0                  957.0   \n",
       "3        84537.0              33865.0                 1073.0   \n",
       "4        84538.0              33865.0                  502.0   \n",
       "\n",
       "   order_item_quantity  order_item_subtotal  order_item_productprice  \n",
       "0                  5.0               499.95                    99.99  \n",
       "1                  2.0                99.96                    49.98  \n",
       "2                  1.0               299.98                   299.98  \n",
       "3                  1.0               199.99                   199.99  \n",
       "4                  1.0                50.00                    50.00  "
      ]
     },
     "execution_count": 27,
     "metadata": {},
     "output_type": "execute_result"
    }
   ],
   "source": [
    "df_hechos_1.head()"
   ]
  },
  {
   "cell_type": "code",
   "execution_count": 28,
   "id": "674ad668",
   "metadata": {},
   "outputs": [],
   "source": [
    "df_hechos = df_hechos_1[['id', 'order_item_product_id', 'order_date','order_item_quantity','order_status']]"
   ]
  },
  {
   "cell_type": "code",
   "execution_count": 29,
   "id": "34be6eaa",
   "metadata": {},
   "outputs": [
    {
     "data": {
      "text/html": [
       "<div>\n",
       "<style scoped>\n",
       "    .dataframe tbody tr th:only-of-type {\n",
       "        vertical-align: middle;\n",
       "    }\n",
       "\n",
       "    .dataframe tbody tr th {\n",
       "        vertical-align: top;\n",
       "    }\n",
       "\n",
       "    .dataframe thead th {\n",
       "        text-align: right;\n",
       "    }\n",
       "</style>\n",
       "<table border=\"1\" class=\"dataframe\">\n",
       "  <thead>\n",
       "    <tr style=\"text-align: right;\">\n",
       "      <th></th>\n",
       "      <th>id</th>\n",
       "      <th>order_item_product_id</th>\n",
       "      <th>order_date</th>\n",
       "      <th>order_item_quantity</th>\n",
       "      <th>order_status</th>\n",
       "    </tr>\n",
       "  </thead>\n",
       "  <tbody>\n",
       "    <tr>\n",
       "      <th>0</th>\n",
       "      <td>1</td>\n",
       "      <td>191.0</td>\n",
       "      <td>2013-12-13 00:00:00.0</td>\n",
       "      <td>5.0</td>\n",
       "      <td>COMPLETE</td>\n",
       "    </tr>\n",
       "    <tr>\n",
       "      <th>1</th>\n",
       "      <td>2</td>\n",
       "      <td>1014.0</td>\n",
       "      <td>2013-10-29 00:00:00.0</td>\n",
       "      <td>2.0</td>\n",
       "      <td>PENDING_PAYMENT</td>\n",
       "    </tr>\n",
       "    <tr>\n",
       "      <th>2</th>\n",
       "      <td>2</td>\n",
       "      <td>957.0</td>\n",
       "      <td>2014-02-18 00:00:00.0</td>\n",
       "      <td>1.0</td>\n",
       "      <td>COMPLETE</td>\n",
       "    </tr>\n",
       "    <tr>\n",
       "      <th>3</th>\n",
       "      <td>2</td>\n",
       "      <td>1073.0</td>\n",
       "      <td>2014-02-18 00:00:00.0</td>\n",
       "      <td>1.0</td>\n",
       "      <td>COMPLETE</td>\n",
       "    </tr>\n",
       "    <tr>\n",
       "      <th>4</th>\n",
       "      <td>2</td>\n",
       "      <td>502.0</td>\n",
       "      <td>2014-02-18 00:00:00.0</td>\n",
       "      <td>1.0</td>\n",
       "      <td>COMPLETE</td>\n",
       "    </tr>\n",
       "  </tbody>\n",
       "</table>\n",
       "</div>"
      ],
      "text/plain": [
       "   id  order_item_product_id             order_date  order_item_quantity  \\\n",
       "0   1                  191.0  2013-12-13 00:00:00.0                  5.0   \n",
       "1   2                 1014.0  2013-10-29 00:00:00.0                  2.0   \n",
       "2   2                  957.0  2014-02-18 00:00:00.0                  1.0   \n",
       "3   2                 1073.0  2014-02-18 00:00:00.0                  1.0   \n",
       "4   2                  502.0  2014-02-18 00:00:00.0                  1.0   \n",
       "\n",
       "      order_status  \n",
       "0         COMPLETE  \n",
       "1  PENDING_PAYMENT  \n",
       "2         COMPLETE  \n",
       "3         COMPLETE  \n",
       "4         COMPLETE  "
      ]
     },
     "execution_count": 29,
     "metadata": {},
     "output_type": "execute_result"
    }
   ],
   "source": [
    "df_hechos.head()"
   ]
  },
  {
   "cell_type": "code",
   "execution_count": 30,
   "id": "d6836389",
   "metadata": {},
   "outputs": [],
   "source": [
    "pr = df_hechos.groupby('order_status').count()"
   ]
  },
  {
   "cell_type": "code",
   "execution_count": 31,
   "id": "81e78932",
   "metadata": {},
   "outputs": [
    {
     "data": {
      "text/html": [
       "<div>\n",
       "<style scoped>\n",
       "    .dataframe tbody tr th:only-of-type {\n",
       "        vertical-align: middle;\n",
       "    }\n",
       "\n",
       "    .dataframe tbody tr th {\n",
       "        vertical-align: top;\n",
       "    }\n",
       "\n",
       "    .dataframe thead th {\n",
       "        text-align: right;\n",
       "    }\n",
       "</style>\n",
       "<table border=\"1\" class=\"dataframe\">\n",
       "  <thead>\n",
       "    <tr style=\"text-align: right;\">\n",
       "      <th></th>\n",
       "      <th>id</th>\n",
       "      <th>order_item_product_id</th>\n",
       "      <th>order_date</th>\n",
       "      <th>order_item_quantity</th>\n",
       "    </tr>\n",
       "    <tr>\n",
       "      <th>order_status</th>\n",
       "      <th></th>\n",
       "      <th></th>\n",
       "      <th></th>\n",
       "      <th></th>\n",
       "    </tr>\n",
       "  </thead>\n",
       "  <tbody>\n",
       "    <tr>\n",
       "      <th>CANCELED</th>\n",
       "      <td>3102</td>\n",
       "      <td>2920</td>\n",
       "      <td>3102</td>\n",
       "      <td>2920</td>\n",
       "    </tr>\n",
       "    <tr>\n",
       "      <th>CLOSED</th>\n",
       "      <td>16040</td>\n",
       "      <td>15038</td>\n",
       "      <td>16040</td>\n",
       "      <td>15038</td>\n",
       "    </tr>\n",
       "    <tr>\n",
       "      <th>COMPLETE</th>\n",
       "      <td>48630</td>\n",
       "      <td>45464</td>\n",
       "      <td>48630</td>\n",
       "      <td>45464</td>\n",
       "    </tr>\n",
       "    <tr>\n",
       "      <th>ON_HOLD</th>\n",
       "      <td>8060</td>\n",
       "      <td>7578</td>\n",
       "      <td>8060</td>\n",
       "      <td>7578</td>\n",
       "    </tr>\n",
       "    <tr>\n",
       "      <th>PAYMENT_REVIEW</th>\n",
       "      <td>1555</td>\n",
       "      <td>1453</td>\n",
       "      <td>1555</td>\n",
       "      <td>1453</td>\n",
       "    </tr>\n",
       "  </tbody>\n",
       "</table>\n",
       "</div>"
      ],
      "text/plain": [
       "                   id  order_item_product_id  order_date  order_item_quantity\n",
       "order_status                                                                 \n",
       "CANCELED         3102                   2920        3102                 2920\n",
       "CLOSED          16040                  15038       16040                15038\n",
       "COMPLETE        48630                  45464       48630                45464\n",
       "ON_HOLD          8060                   7578        8060                 7578\n",
       "PAYMENT_REVIEW   1555                   1453        1555                 1453"
      ]
     },
     "execution_count": 31,
     "metadata": {},
     "output_type": "execute_result"
    }
   ],
   "source": [
    "pr.head()"
   ]
  },
  {
   "cell_type": "code",
   "execution_count": 32,
   "id": "5d56aec1",
   "metadata": {
    "scrolled": false
   },
   "outputs": [
    {
     "data": {
      "text/html": [
       "<div>\n",
       "<style scoped>\n",
       "    .dataframe tbody tr th:only-of-type {\n",
       "        vertical-align: middle;\n",
       "    }\n",
       "\n",
       "    .dataframe tbody tr th {\n",
       "        vertical-align: top;\n",
       "    }\n",
       "\n",
       "    .dataframe thead th {\n",
       "        text-align: right;\n",
       "    }\n",
       "</style>\n",
       "<table border=\"1\" class=\"dataframe\">\n",
       "  <thead>\n",
       "    <tr style=\"text-align: right;\">\n",
       "      <th></th>\n",
       "      <th>id</th>\n",
       "      <th>email</th>\n",
       "      <th>first</th>\n",
       "      <th>last</th>\n",
       "      <th>company</th>\n",
       "      <th>created_at</th>\n",
       "      <th>country</th>\n",
       "    </tr>\n",
       "  </thead>\n",
       "  <tbody>\n",
       "    <tr>\n",
       "      <th>0</th>\n",
       "      <td>1</td>\n",
       "      <td>isidro_von@hotmail.com</td>\n",
       "      <td>Torrey</td>\n",
       "      <td>Veum</td>\n",
       "      <td>Hilll, Mayert and Wolf</td>\n",
       "      <td>2014-12-25 04:06:27.981000+00:00</td>\n",
       "      <td>Switzerland</td>\n",
       "    </tr>\n",
       "    <tr>\n",
       "      <th>1</th>\n",
       "      <td>2</td>\n",
       "      <td>frederique19@gmail.com</td>\n",
       "      <td>Micah</td>\n",
       "      <td>Sanford</td>\n",
       "      <td>Stokes-Reichel</td>\n",
       "      <td>2014-07-03 16:08:17.044000+00:00</td>\n",
       "      <td>Democratic People's Republic of Korea</td>\n",
       "    </tr>\n",
       "    <tr>\n",
       "      <th>2</th>\n",
       "      <td>3</td>\n",
       "      <td>fredy54@gmail.com</td>\n",
       "      <td>Hollis</td>\n",
       "      <td>Swift</td>\n",
       "      <td>Rodriguez, Cartwright and Kuhn</td>\n",
       "      <td>2014-08-18 06:15:16.731000+00:00</td>\n",
       "      <td>Tunisia</td>\n",
       "    </tr>\n",
       "    <tr>\n",
       "      <th>3</th>\n",
       "      <td>4</td>\n",
       "      <td>braxton29@hotmail.com</td>\n",
       "      <td>Perry</td>\n",
       "      <td>Leffler</td>\n",
       "      <td>Sipes, Feeney and Hansen</td>\n",
       "      <td>2014-07-10 11:31:40.235000+00:00</td>\n",
       "      <td>Chad</td>\n",
       "    </tr>\n",
       "    <tr>\n",
       "      <th>4</th>\n",
       "      <td>5</td>\n",
       "      <td>turner59@gmail.com</td>\n",
       "      <td>Janelle</td>\n",
       "      <td>Hagenes</td>\n",
       "      <td>Lesch and Daughters</td>\n",
       "      <td>2014-04-21 15:05:43.229000+00:00</td>\n",
       "      <td>Swaziland</td>\n",
       "    </tr>\n",
       "  </tbody>\n",
       "</table>\n",
       "</div>"
      ],
      "text/plain": [
       "   id                   email    first     last  \\\n",
       "0   1  isidro_von@hotmail.com   Torrey     Veum   \n",
       "1   2  frederique19@gmail.com    Micah  Sanford   \n",
       "2   3       fredy54@gmail.com   Hollis    Swift   \n",
       "3   4   braxton29@hotmail.com    Perry  Leffler   \n",
       "4   5      turner59@gmail.com  Janelle  Hagenes   \n",
       "\n",
       "                          company                       created_at  \\\n",
       "0          Hilll, Mayert and Wolf 2014-12-25 04:06:27.981000+00:00   \n",
       "1                  Stokes-Reichel 2014-07-03 16:08:17.044000+00:00   \n",
       "2  Rodriguez, Cartwright and Kuhn 2014-08-18 06:15:16.731000+00:00   \n",
       "3        Sipes, Feeney and Hansen 2014-07-10 11:31:40.235000+00:00   \n",
       "4             Lesch and Daughters 2014-04-21 15:05:43.229000+00:00   \n",
       "\n",
       "                                 country  \n",
       "0                            Switzerland  \n",
       "1  Democratic People's Republic of Korea  \n",
       "2                                Tunisia  \n",
       "3                                   Chad  \n",
       "4                              Swaziland  "
      ]
     },
     "execution_count": 32,
     "metadata": {},
     "output_type": "execute_result"
    }
   ],
   "source": [
    "df_clientes = df_custom\n",
    "df_clientes.head()"
   ]
  },
  {
   "cell_type": "code",
   "execution_count": 96,
   "id": "edb2ecb9",
   "metadata": {
    "scrolled": true
   },
   "outputs": [],
   "source": [
    "col_country = df_clientes['country'].str.replace(\"'\", '')"
   ]
  },
  {
   "cell_type": "code",
   "execution_count": 97,
   "id": "1b7079eb",
   "metadata": {},
   "outputs": [],
   "source": [
    "df_clientes['country'] = col_country"
   ]
  },
  {
   "cell_type": "code",
   "execution_count": 100,
   "id": "8cc85abf",
   "metadata": {},
   "outputs": [],
   "source": [
    "col_last = df_clientes['last'].str.replace(\"'\", '')\n",
    "df_clientes['last'] = col_last"
   ]
  },
  {
   "cell_type": "code",
   "execution_count": 101,
   "id": "7eb217ac",
   "metadata": {},
   "outputs": [],
   "source": [
    "col_company = df_clientes['company'].str.replace(\"'\", '')\n",
    "df_clientes['company'] = col_company"
   ]
  },
  {
   "cell_type": "code",
   "execution_count": 104,
   "id": "160d1401",
   "metadata": {},
   "outputs": [],
   "source": [
    "col_first = df_clientes['first'].str.replace(\"'\", '')\n",
    "df_clientes['first'] = col_first"
   ]
  },
  {
   "cell_type": "code",
   "execution_count": 69,
   "id": "5dd98ee9",
   "metadata": {},
   "outputs": [
    {
     "data": {
      "text/plain": [
       "0               Hilll, Mayert and Wolf\n",
       "1                       Stokes-Reichel\n",
       "2       Rodriguez, Cartwright and Kuhn\n",
       "3             Sipes, Feeney and Hansen\n",
       "4                  Lesch and Daughters\n",
       "                     ...              \n",
       "9994                    Carter-Tillman\n",
       "9995             Smitham and Daughters\n",
       "9996                     VonRueden LLC\n",
       "9997                         Green Inc\n",
       "9998                Funk and Daughters\n",
       "Name: company, Length: 9999, dtype: object"
      ]
     },
     "execution_count": 69,
     "metadata": {},
     "output_type": "execute_result"
    }
   ],
   "source": [
    "df_clientes['company'].str.replace(\"'\", '', implace=True)\n"
   ]
  },
  {
   "cell_type": "code",
   "execution_count": 70,
   "id": "f412e4a6",
   "metadata": {},
   "outputs": [
    {
     "data": {
      "text/plain": [
       "0           Veum\n",
       "1        Sanford\n",
       "2          Swift\n",
       "3        Leffler\n",
       "4        Hagenes\n",
       "          ...   \n",
       "9994        Batz\n",
       "9995     Reinger\n",
       "9996        Bode\n",
       "9997    Prosacco\n",
       "9998    Connelly\n",
       "Name: last, Length: 9999, dtype: object"
      ]
     },
     "execution_count": 70,
     "metadata": {},
     "output_type": "execute_result"
    }
   ],
   "source": [
    "df_clientes['last'].str.replace(\"'\", '', implace=True)"
   ]
  },
  {
   "cell_type": "code",
   "execution_count": 110,
   "id": "7198cef2",
   "metadata": {},
   "outputs": [],
   "source": [
    "df_cliente = df_clientes[['id','first','last','company','created_at','country']]"
   ]
  },
  {
   "cell_type": "code",
   "execution_count": 34,
   "id": "d91df77d",
   "metadata": {},
   "outputs": [],
   "source": [
    "df_productos_1 = df_prod.merge(df_cat, left_on= ['product_category_id'], right_on = ['category_id'], how='left')"
   ]
  },
  {
   "cell_type": "code",
   "execution_count": 35,
   "id": "a951aece",
   "metadata": {},
   "outputs": [],
   "source": [
    "df_productos = df_productos_1[['product_id','product_category_id','product_name','product_price','category_name']]"
   ]
  },
  {
   "cell_type": "code",
   "execution_count": 36,
   "id": "9e0b9d40",
   "metadata": {},
   "outputs": [],
   "source": [
    "#df = df_productos.filter('product_id' == '2')\n",
    "#df.head()"
   ]
  },
  {
   "cell_type": "code",
   "execution_count": 37,
   "id": "976fda69",
   "metadata": {},
   "outputs": [
    {
     "data": {
      "text/html": [
       "<div>\n",
       "<style scoped>\n",
       "    .dataframe tbody tr th:only-of-type {\n",
       "        vertical-align: middle;\n",
       "    }\n",
       "\n",
       "    .dataframe tbody tr th {\n",
       "        vertical-align: top;\n",
       "    }\n",
       "\n",
       "    .dataframe thead th {\n",
       "        text-align: right;\n",
       "    }\n",
       "</style>\n",
       "<table border=\"1\" class=\"dataframe\">\n",
       "  <thead>\n",
       "    <tr style=\"text-align: right;\">\n",
       "      <th></th>\n",
       "      <th>product_id</th>\n",
       "      <th>product_category_id</th>\n",
       "      <th>product_name</th>\n",
       "      <th>product_price</th>\n",
       "      <th>category_name</th>\n",
       "    </tr>\n",
       "  </thead>\n",
       "  <tbody>\n",
       "    <tr>\n",
       "      <th>0</th>\n",
       "      <td>2</td>\n",
       "      <td>2</td>\n",
       "      <td>Under Armour Men's Highlight MC Football Clea</td>\n",
       "      <td>129.99</td>\n",
       "      <td>Soccer</td>\n",
       "    </tr>\n",
       "    <tr>\n",
       "      <th>1</th>\n",
       "      <td>3</td>\n",
       "      <td>2</td>\n",
       "      <td>Under Armour Men's Renegade D Mid Football Cl</td>\n",
       "      <td>89.99</td>\n",
       "      <td>Soccer</td>\n",
       "    </tr>\n",
       "    <tr>\n",
       "      <th>2</th>\n",
       "      <td>4</td>\n",
       "      <td>2</td>\n",
       "      <td>Under Armour Men's Renegade D Mid Football Cl</td>\n",
       "      <td>89.99</td>\n",
       "      <td>Soccer</td>\n",
       "    </tr>\n",
       "    <tr>\n",
       "      <th>3</th>\n",
       "      <td>5</td>\n",
       "      <td>2</td>\n",
       "      <td>Riddell Youth Revolution Speed Custom Footbal</td>\n",
       "      <td>199.99</td>\n",
       "      <td>Soccer</td>\n",
       "    </tr>\n",
       "    <tr>\n",
       "      <th>4</th>\n",
       "      <td>6</td>\n",
       "      <td>2</td>\n",
       "      <td>Jordan Men's VI Retro TD Football Cleat</td>\n",
       "      <td>134.99</td>\n",
       "      <td>Soccer</td>\n",
       "    </tr>\n",
       "  </tbody>\n",
       "</table>\n",
       "</div>"
      ],
      "text/plain": [
       "   product_id  product_category_id  \\\n",
       "0           2                    2   \n",
       "1           3                    2   \n",
       "2           4                    2   \n",
       "3           5                    2   \n",
       "4           6                    2   \n",
       "\n",
       "                                    product_name  product_price category_name  \n",
       "0  Under Armour Men's Highlight MC Football Clea         129.99        Soccer  \n",
       "1  Under Armour Men's Renegade D Mid Football Cl          89.99        Soccer  \n",
       "2  Under Armour Men's Renegade D Mid Football Cl          89.99        Soccer  \n",
       "3  Riddell Youth Revolution Speed Custom Footbal         199.99        Soccer  \n",
       "4        Jordan Men's VI Retro TD Football Cleat         134.99        Soccer  "
      ]
     },
     "execution_count": 37,
     "metadata": {},
     "output_type": "execute_result"
    }
   ],
   "source": [
    "df_productos.head()"
   ]
  },
  {
   "cell_type": "code",
   "execution_count": 38,
   "id": "551f8fc2",
   "metadata": {},
   "outputs": [],
   "source": [
    "dfte = df_productos[df_productos['category_name']=='Boxing & MMA']"
   ]
  },
  {
   "cell_type": "code",
   "execution_count": 39,
   "id": "846b8d09",
   "metadata": {},
   "outputs": [
    {
     "data": {
      "text/html": [
       "<div>\n",
       "<style scoped>\n",
       "    .dataframe tbody tr th:only-of-type {\n",
       "        vertical-align: middle;\n",
       "    }\n",
       "\n",
       "    .dataframe tbody tr th {\n",
       "        vertical-align: top;\n",
       "    }\n",
       "\n",
       "    .dataframe thead th {\n",
       "        text-align: right;\n",
       "    }\n",
       "</style>\n",
       "<table border=\"1\" class=\"dataframe\">\n",
       "  <thead>\n",
       "    <tr style=\"text-align: right;\">\n",
       "      <th></th>\n",
       "      <th>product_id</th>\n",
       "      <th>product_category_id</th>\n",
       "      <th>product_name</th>\n",
       "      <th>product_price</th>\n",
       "      <th>category_name</th>\n",
       "    </tr>\n",
       "  </thead>\n",
       "  <tbody>\n",
       "    <tr>\n",
       "      <th>239</th>\n",
       "      <td>241</td>\n",
       "      <td>12</td>\n",
       "      <td>Nike Women's Tempo Shorts</td>\n",
       "      <td>30.00</td>\n",
       "      <td>Boxing &amp; MMA</td>\n",
       "    </tr>\n",
       "    <tr>\n",
       "      <th>240</th>\n",
       "      <td>242</td>\n",
       "      <td>12</td>\n",
       "      <td>Nike Women's Tempo Shorts</td>\n",
       "      <td>30.00</td>\n",
       "      <td>Boxing &amp; MMA</td>\n",
       "    </tr>\n",
       "    <tr>\n",
       "      <th>241</th>\n",
       "      <td>243</td>\n",
       "      <td>12</td>\n",
       "      <td>Brooks Women's Adrenaline GTS 13 Running Shoe</td>\n",
       "      <td>89.99</td>\n",
       "      <td>Boxing &amp; MMA</td>\n",
       "    </tr>\n",
       "    <tr>\n",
       "      <th>242</th>\n",
       "      <td>244</td>\n",
       "      <td>12</td>\n",
       "      <td>Nike+ Fuelband SE</td>\n",
       "      <td>99.00</td>\n",
       "      <td>Boxing &amp; MMA</td>\n",
       "    </tr>\n",
       "    <tr>\n",
       "      <th>243</th>\n",
       "      <td>245</td>\n",
       "      <td>12</td>\n",
       "      <td>Fitbit Flex Wireless Activity &amp; Sleep Wristba</td>\n",
       "      <td>99.95</td>\n",
       "      <td>Boxing &amp; MMA</td>\n",
       "    </tr>\n",
       "    <tr>\n",
       "      <th>244</th>\n",
       "      <td>246</td>\n",
       "      <td>12</td>\n",
       "      <td>Nike Women's Tempo Shorts</td>\n",
       "      <td>30.00</td>\n",
       "      <td>Boxing &amp; MMA</td>\n",
       "    </tr>\n",
       "    <tr>\n",
       "      <th>245</th>\n",
       "      <td>247</td>\n",
       "      <td>12</td>\n",
       "      <td>Nike Women's Pro Core 3\" Compression Shorts</td>\n",
       "      <td>28.00</td>\n",
       "      <td>Boxing &amp; MMA</td>\n",
       "    </tr>\n",
       "    <tr>\n",
       "      <th>246</th>\n",
       "      <td>248</td>\n",
       "      <td>12</td>\n",
       "      <td>Nike Women's Free 4.0 Running Shoe</td>\n",
       "      <td>89.99</td>\n",
       "      <td>Boxing &amp; MMA</td>\n",
       "    </tr>\n",
       "    <tr>\n",
       "      <th>247</th>\n",
       "      <td>249</td>\n",
       "      <td>12</td>\n",
       "      <td>Under Armour Women's Micro G Skulpt Running S</td>\n",
       "      <td>54.97</td>\n",
       "      <td>Boxing &amp; MMA</td>\n",
       "    </tr>\n",
       "    <tr>\n",
       "      <th>248</th>\n",
       "      <td>250</td>\n",
       "      <td>12</td>\n",
       "      <td>Under Armour Women's Play Up Shorts</td>\n",
       "      <td>24.99</td>\n",
       "      <td>Boxing &amp; MMA</td>\n",
       "    </tr>\n",
       "    <tr>\n",
       "      <th>249</th>\n",
       "      <td>251</td>\n",
       "      <td>12</td>\n",
       "      <td>Brooks Women's Ghost 6 Running Shoe</td>\n",
       "      <td>89.99</td>\n",
       "      <td>Boxing &amp; MMA</td>\n",
       "    </tr>\n",
       "    <tr>\n",
       "      <th>250</th>\n",
       "      <td>252</td>\n",
       "      <td>12</td>\n",
       "      <td>Nike Women's Pro Victory Compression Bra</td>\n",
       "      <td>21.99</td>\n",
       "      <td>Boxing &amp; MMA</td>\n",
       "    </tr>\n",
       "    <tr>\n",
       "      <th>251</th>\n",
       "      <td>253</td>\n",
       "      <td>12</td>\n",
       "      <td>Nike Women's Free 5.0+ Running Shoe</td>\n",
       "      <td>99.99</td>\n",
       "      <td>Boxing &amp; MMA</td>\n",
       "    </tr>\n",
       "    <tr>\n",
       "      <th>252</th>\n",
       "      <td>254</td>\n",
       "      <td>12</td>\n",
       "      <td>Brooks Women's Ghost 6 Running Shoe</td>\n",
       "      <td>89.99</td>\n",
       "      <td>Boxing &amp; MMA</td>\n",
       "    </tr>\n",
       "    <tr>\n",
       "      <th>253</th>\n",
       "      <td>255</td>\n",
       "      <td>12</td>\n",
       "      <td>ASICS Women's GEL-Noosa Tri 9 Running Shoe</td>\n",
       "      <td>139.99</td>\n",
       "      <td>Boxing &amp; MMA</td>\n",
       "    </tr>\n",
       "    <tr>\n",
       "      <th>254</th>\n",
       "      <td>256</td>\n",
       "      <td>12</td>\n",
       "      <td>Elevation Training Mask 2.0</td>\n",
       "      <td>79.99</td>\n",
       "      <td>Boxing &amp; MMA</td>\n",
       "    </tr>\n",
       "    <tr>\n",
       "      <th>255</th>\n",
       "      <td>257</td>\n",
       "      <td>12</td>\n",
       "      <td>Under Armour Women's Tech T-Shirt</td>\n",
       "      <td>16.99</td>\n",
       "      <td>Boxing &amp; MMA</td>\n",
       "    </tr>\n",
       "    <tr>\n",
       "      <th>256</th>\n",
       "      <td>258</td>\n",
       "      <td>12</td>\n",
       "      <td>Nike Women's Free 5.0 TR FIT PRT 4 Training S</td>\n",
       "      <td>94.99</td>\n",
       "      <td>Boxing &amp; MMA</td>\n",
       "    </tr>\n",
       "    <tr>\n",
       "      <th>257</th>\n",
       "      <td>259</td>\n",
       "      <td>12</td>\n",
       "      <td>Nike Women's Pro Hyperwarm Fitted Tights</td>\n",
       "      <td>24.97</td>\n",
       "      <td>Boxing &amp; MMA</td>\n",
       "    </tr>\n",
       "    <tr>\n",
       "      <th>258</th>\n",
       "      <td>260</td>\n",
       "      <td>12</td>\n",
       "      <td>ASICS Women's GEL-Nimbus 15 Running Shoe</td>\n",
       "      <td>119.99</td>\n",
       "      <td>Boxing &amp; MMA</td>\n",
       "    </tr>\n",
       "    <tr>\n",
       "      <th>259</th>\n",
       "      <td>261</td>\n",
       "      <td>12</td>\n",
       "      <td>ASICS Women's GEL-Cumulus 15 Running Shoe</td>\n",
       "      <td>89.99</td>\n",
       "      <td>Boxing &amp; MMA</td>\n",
       "    </tr>\n",
       "    <tr>\n",
       "      <th>260</th>\n",
       "      <td>262</td>\n",
       "      <td>12</td>\n",
       "      <td>Fitness Gear Pro Utility Bench</td>\n",
       "      <td>179.99</td>\n",
       "      <td>Boxing &amp; MMA</td>\n",
       "    </tr>\n",
       "    <tr>\n",
       "      <th>261</th>\n",
       "      <td>263</td>\n",
       "      <td>12</td>\n",
       "      <td>Nike Women's Legend V-Neck T-Shirt</td>\n",
       "      <td>25.00</td>\n",
       "      <td>Boxing &amp; MMA</td>\n",
       "    </tr>\n",
       "    <tr>\n",
       "      <th>262</th>\n",
       "      <td>264</td>\n",
       "      <td>12</td>\n",
       "      <td>Nike Dri-FIT Crew Sock 6 Pack</td>\n",
       "      <td>22.00</td>\n",
       "      <td>Boxing &amp; MMA</td>\n",
       "    </tr>\n",
       "  </tbody>\n",
       "</table>\n",
       "</div>"
      ],
      "text/plain": [
       "     product_id  product_category_id  \\\n",
       "239         241                   12   \n",
       "240         242                   12   \n",
       "241         243                   12   \n",
       "242         244                   12   \n",
       "243         245                   12   \n",
       "244         246                   12   \n",
       "245         247                   12   \n",
       "246         248                   12   \n",
       "247         249                   12   \n",
       "248         250                   12   \n",
       "249         251                   12   \n",
       "250         252                   12   \n",
       "251         253                   12   \n",
       "252         254                   12   \n",
       "253         255                   12   \n",
       "254         256                   12   \n",
       "255         257                   12   \n",
       "256         258                   12   \n",
       "257         259                   12   \n",
       "258         260                   12   \n",
       "259         261                   12   \n",
       "260         262                   12   \n",
       "261         263                   12   \n",
       "262         264                   12   \n",
       "\n",
       "                                      product_name  product_price  \\\n",
       "239                      Nike Women's Tempo Shorts          30.00   \n",
       "240                      Nike Women's Tempo Shorts          30.00   \n",
       "241  Brooks Women's Adrenaline GTS 13 Running Shoe          89.99   \n",
       "242                              Nike+ Fuelband SE          99.00   \n",
       "243  Fitbit Flex Wireless Activity & Sleep Wristba          99.95   \n",
       "244                      Nike Women's Tempo Shorts          30.00   \n",
       "245    Nike Women's Pro Core 3\" Compression Shorts          28.00   \n",
       "246             Nike Women's Free 4.0 Running Shoe          89.99   \n",
       "247  Under Armour Women's Micro G Skulpt Running S          54.97   \n",
       "248            Under Armour Women's Play Up Shorts          24.99   \n",
       "249            Brooks Women's Ghost 6 Running Shoe          89.99   \n",
       "250       Nike Women's Pro Victory Compression Bra          21.99   \n",
       "251            Nike Women's Free 5.0+ Running Shoe          99.99   \n",
       "252            Brooks Women's Ghost 6 Running Shoe          89.99   \n",
       "253     ASICS Women's GEL-Noosa Tri 9 Running Shoe         139.99   \n",
       "254                    Elevation Training Mask 2.0          79.99   \n",
       "255              Under Armour Women's Tech T-Shirt          16.99   \n",
       "256  Nike Women's Free 5.0 TR FIT PRT 4 Training S          94.99   \n",
       "257       Nike Women's Pro Hyperwarm Fitted Tights          24.97   \n",
       "258       ASICS Women's GEL-Nimbus 15 Running Shoe         119.99   \n",
       "259      ASICS Women's GEL-Cumulus 15 Running Shoe          89.99   \n",
       "260                 Fitness Gear Pro Utility Bench         179.99   \n",
       "261             Nike Women's Legend V-Neck T-Shirt          25.00   \n",
       "262                  Nike Dri-FIT Crew Sock 6 Pack          22.00   \n",
       "\n",
       "    category_name  \n",
       "239  Boxing & MMA  \n",
       "240  Boxing & MMA  \n",
       "241  Boxing & MMA  \n",
       "242  Boxing & MMA  \n",
       "243  Boxing & MMA  \n",
       "244  Boxing & MMA  \n",
       "245  Boxing & MMA  \n",
       "246  Boxing & MMA  \n",
       "247  Boxing & MMA  \n",
       "248  Boxing & MMA  \n",
       "249  Boxing & MMA  \n",
       "250  Boxing & MMA  \n",
       "251  Boxing & MMA  \n",
       "252  Boxing & MMA  \n",
       "253  Boxing & MMA  \n",
       "254  Boxing & MMA  \n",
       "255  Boxing & MMA  \n",
       "256  Boxing & MMA  \n",
       "257  Boxing & MMA  \n",
       "258  Boxing & MMA  \n",
       "259  Boxing & MMA  \n",
       "260  Boxing & MMA  \n",
       "261  Boxing & MMA  \n",
       "262  Boxing & MMA  "
      ]
     },
     "execution_count": 39,
     "metadata": {},
     "output_type": "execute_result"
    }
   ],
   "source": [
    "dfte"
   ]
  },
  {
   "cell_type": "markdown",
   "id": "34f00c44",
   "metadata": {},
   "source": [
    "### Nota: \n",
    "df_productos :product_id , \n",
    "df_hechos : order_item_product_id"
   ]
  },
  {
   "cell_type": "code",
   "execution_count": 40,
   "id": "3157d353",
   "metadata": {},
   "outputs": [],
   "source": [
    "df_can_pro_categoria = df_hechos.merge(df_productos, left_on= ['order_item_product_id'], right_on = ['product_id'], how='left')"
   ]
  },
  {
   "cell_type": "code",
   "execution_count": 41,
   "id": "caa6fecd",
   "metadata": {},
   "outputs": [
    {
     "data": {
      "text/html": [
       "<div>\n",
       "<style scoped>\n",
       "    .dataframe tbody tr th:only-of-type {\n",
       "        vertical-align: middle;\n",
       "    }\n",
       "\n",
       "    .dataframe tbody tr th {\n",
       "        vertical-align: top;\n",
       "    }\n",
       "\n",
       "    .dataframe thead th {\n",
       "        text-align: right;\n",
       "    }\n",
       "</style>\n",
       "<table border=\"1\" class=\"dataframe\">\n",
       "  <thead>\n",
       "    <tr style=\"text-align: right;\">\n",
       "      <th></th>\n",
       "      <th>order_item_quantity</th>\n",
       "      <th>product_price</th>\n",
       "    </tr>\n",
       "    <tr>\n",
       "      <th>category_name</th>\n",
       "      <th></th>\n",
       "      <th></th>\n",
       "    </tr>\n",
       "  </thead>\n",
       "  <tbody>\n",
       "    <tr>\n",
       "      <th>Accessories</th>\n",
       "      <td>4326.0</td>\n",
       "      <td>36160.53</td>\n",
       "    </tr>\n",
       "    <tr>\n",
       "      <th>As Seen on  TV!</th>\n",
       "      <td>170.0</td>\n",
       "      <td>5799.42</td>\n",
       "    </tr>\n",
       "    <tr>\n",
       "      <th>Baseball &amp; Softball</th>\n",
       "      <td>1484.0</td>\n",
       "      <td>30534.81</td>\n",
       "    </tr>\n",
       "    <tr>\n",
       "      <th>Basketball</th>\n",
       "      <td>51.0</td>\n",
       "      <td>20899.49</td>\n",
       "    </tr>\n",
       "    <tr>\n",
       "      <th>Boxing &amp; MMA</th>\n",
       "      <td>1000.0</td>\n",
       "      <td>22016.99</td>\n",
       "    </tr>\n",
       "  </tbody>\n",
       "</table>\n",
       "</div>"
      ],
      "text/plain": [
       "                     order_item_quantity  product_price\n",
       "category_name                                          \n",
       "Accessories                       4326.0       36160.53\n",
       "As Seen on  TV!                    170.0        5799.42\n",
       "Baseball & Softball               1484.0       30534.81\n",
       "Basketball                          51.0       20899.49\n",
       "Boxing & MMA                      1000.0       22016.99"
      ]
     },
     "execution_count": 41,
     "metadata": {},
     "output_type": "execute_result"
    }
   ],
   "source": [
    "df_cpcat = df_can_pro_categoria[['category_name','order_item_quantity','product_price']].groupby('category_name').sum('product_price')\n",
    "df_cpcat.head()"
   ]
  },
  {
   "cell_type": "code",
   "execution_count": 42,
   "id": "ce6f225a",
   "metadata": {},
   "outputs": [],
   "source": [
    "df_cp = df_can_pro_categoria[['product_name','category_name','order_item_quantity','product_price']]\n",
    "#df_cpf = df_cp[df_cp['category_name']=='Boxing & MMA']\n",
    "#df_cpf.head()"
   ]
  },
  {
   "cell_type": "code",
   "execution_count": 43,
   "id": "ee980e7e",
   "metadata": {},
   "outputs": [
    {
     "data": {
      "text/html": [
       "<div>\n",
       "<style scoped>\n",
       "    .dataframe tbody tr th:only-of-type {\n",
       "        vertical-align: middle;\n",
       "    }\n",
       "\n",
       "    .dataframe tbody tr th {\n",
       "        vertical-align: top;\n",
       "    }\n",
       "\n",
       "    .dataframe thead th {\n",
       "        text-align: right;\n",
       "    }\n",
       "</style>\n",
       "<table border=\"1\" class=\"dataframe\">\n",
       "  <thead>\n",
       "    <tr style=\"text-align: right;\">\n",
       "      <th></th>\n",
       "      <th>product_name</th>\n",
       "      <th>category_name</th>\n",
       "      <th>order_item_quantity</th>\n",
       "      <th>product_price</th>\n",
       "    </tr>\n",
       "  </thead>\n",
       "  <tbody>\n",
       "    <tr>\n",
       "      <th>0</th>\n",
       "      <td>Nike Men's Free 5.0+ Running Shoe</td>\n",
       "      <td>Cardio Equipment</td>\n",
       "      <td>5.0</td>\n",
       "      <td>99.99</td>\n",
       "    </tr>\n",
       "    <tr>\n",
       "      <th>1</th>\n",
       "      <td>O'Brien Men's Neoprene Life Vest</td>\n",
       "      <td>Indoor/Outdoor Games</td>\n",
       "      <td>2.0</td>\n",
       "      <td>49.98</td>\n",
       "    </tr>\n",
       "    <tr>\n",
       "      <th>2</th>\n",
       "      <td>Diamondback Women's Serene Classic Comfort Bi</td>\n",
       "      <td>Camping &amp; Hiking</td>\n",
       "      <td>1.0</td>\n",
       "      <td>299.98</td>\n",
       "    </tr>\n",
       "    <tr>\n",
       "      <th>3</th>\n",
       "      <td>Pelican Sunstream 100 Kayak</td>\n",
       "      <td>Water Sports</td>\n",
       "      <td>1.0</td>\n",
       "      <td>199.99</td>\n",
       "    </tr>\n",
       "    <tr>\n",
       "      <th>4</th>\n",
       "      <td>Nike Men's Dri-FIT Victory Golf Polo</td>\n",
       "      <td>Women's Apparel</td>\n",
       "      <td>1.0</td>\n",
       "      <td>50.00</td>\n",
       "    </tr>\n",
       "  </tbody>\n",
       "</table>\n",
       "</div>"
      ],
      "text/plain": [
       "                                    product_name         category_name  \\\n",
       "0              Nike Men's Free 5.0+ Running Shoe      Cardio Equipment   \n",
       "1               O'Brien Men's Neoprene Life Vest  Indoor/Outdoor Games   \n",
       "2  Diamondback Women's Serene Classic Comfort Bi      Camping & Hiking   \n",
       "3                    Pelican Sunstream 100 Kayak          Water Sports   \n",
       "4           Nike Men's Dri-FIT Victory Golf Polo       Women's Apparel   \n",
       "\n",
       "   order_item_quantity  product_price  \n",
       "0                  5.0          99.99  \n",
       "1                  2.0          49.98  \n",
       "2                  1.0         299.98  \n",
       "3                  1.0         199.99  \n",
       "4                  1.0          50.00  "
      ]
     },
     "execution_count": 43,
     "metadata": {},
     "output_type": "execute_result"
    }
   ],
   "source": [
    "df_cp.head()"
   ]
  },
  {
   "cell_type": "code",
   "execution_count": 44,
   "id": "5c34221b",
   "metadata": {
    "scrolled": true
   },
   "outputs": [
    {
     "data": {
      "text/html": [
       "<div>\n",
       "<style scoped>\n",
       "    .dataframe tbody tr th:only-of-type {\n",
       "        vertical-align: middle;\n",
       "    }\n",
       "\n",
       "    .dataframe tbody tr th {\n",
       "        vertical-align: top;\n",
       "    }\n",
       "\n",
       "    .dataframe thead th {\n",
       "        text-align: right;\n",
       "    }\n",
       "</style>\n",
       "<table border=\"1\" class=\"dataframe\">\n",
       "  <thead>\n",
       "    <tr style=\"text-align: right;\">\n",
       "      <th></th>\n",
       "      <th>order_item_quantity</th>\n",
       "      <th>product_price</th>\n",
       "    </tr>\n",
       "    <tr>\n",
       "      <th>product_name</th>\n",
       "      <th></th>\n",
       "      <th></th>\n",
       "    </tr>\n",
       "  </thead>\n",
       "  <tbody>\n",
       "    <tr>\n",
       "      <th>Brooks Women's Ghost 6 Running Shoe</th>\n",
       "      <td>163.0</td>\n",
       "      <td>4499.50</td>\n",
       "    </tr>\n",
       "    <tr>\n",
       "      <th>Nike Women's Free 5.0 TR FIT PRT 4 Training S</th>\n",
       "      <td>141.0</td>\n",
       "      <td>4654.51</td>\n",
       "    </tr>\n",
       "    <tr>\n",
       "      <th>Under Armour Women's Micro G Skulpt Running S</th>\n",
       "      <td>696.0</td>\n",
       "      <td>12862.98</td>\n",
       "    </tr>\n",
       "  </tbody>\n",
       "</table>\n",
       "</div>"
      ],
      "text/plain": [
       "                                               order_item_quantity  \\\n",
       "product_name                                                         \n",
       "Brooks Women's Ghost 6 Running Shoe                          163.0   \n",
       "Nike Women's Free 5.0 TR FIT PRT 4 Training S                141.0   \n",
       "Under Armour Women's Micro G Skulpt Running S                696.0   \n",
       "\n",
       "                                               product_price  \n",
       "product_name                                                  \n",
       "Brooks Women's Ghost 6 Running Shoe                  4499.50  \n",
       "Nike Women's Free 5.0 TR FIT PRT 4 Training S        4654.51  \n",
       "Under Armour Women's Micro G Skulpt Running S       12862.98  "
      ]
     },
     "execution_count": 44,
     "metadata": {},
     "output_type": "execute_result"
    }
   ],
   "source": [
    "df_cpf = df_cp[df_cp['category_name']=='Boxing & MMA'].groupby('product_name').sum()\n",
    "df_cpf"
   ]
  },
  {
   "cell_type": "markdown",
   "id": "b417fb2e",
   "metadata": {},
   "source": [
    "## Carga"
   ]
  },
  {
   "cell_type": "markdown",
   "id": "0897a858",
   "metadata": {},
   "source": [
    "#### Archivo csv"
   ]
  },
  {
   "cell_type": "code",
   "execution_count": 45,
   "id": "e1229fd1",
   "metadata": {},
   "outputs": [],
   "source": [
    "df_hechos.to_csv(r\"C:\\Users\\ELIGIO\\Desktop\\EEC\\dataEngineer\\Data\\data_destino\\hechos_venta.csv\")\n"
   ]
  },
  {
   "cell_type": "code",
   "execution_count": 46,
   "id": "4533a749",
   "metadata": {},
   "outputs": [],
   "source": [
    "df_clientes.to_csv(r\"C:\\Users\\ELIGIO\\Desktop\\EEC\\dataEngineer\\Data\\data_destino\\clientes.csv\")"
   ]
  },
  {
   "cell_type": "code",
   "execution_count": 47,
   "id": "355efb7a",
   "metadata": {},
   "outputs": [],
   "source": [
    "df_productos.to_csv(r\"C:\\Users\\ELIGIO\\Desktop\\EEC\\dataEngineer\\Data\\data_destino\\productos.csv\")"
   ]
  },
  {
   "cell_type": "markdown",
   "id": "5d3c4443",
   "metadata": {},
   "source": [
    "#### Base de datos Sqlite"
   ]
  },
  {
   "cell_type": "code",
   "execution_count": 48,
   "id": "7f0a2d00",
   "metadata": {},
   "outputs": [
    {
     "name": "stdout",
     "output_type": "stream",
     "text": [
      "Table is Ready\n"
     ]
    }
   ],
   "source": [
    "connl = sqlite3.connect(r'C:\\Users\\ELIGIO\\bd_proyecto.db') #ruta de la base de datos\n",
    "#  crear base de datos y tablas en sqlite\n",
    "#  base de datos: bd_proyecto\n",
    "#  tablas: tb_clientes, tb_productos, tb_hechos_venta\n",
    "\n",
    "# cursor object\n",
    "cursor_obj = connl.cursor()\n",
    "  \n",
    "# Drop the GEEK table if already exists.\n",
    "cursor_obj.execute(\"DROP TABLE IF EXISTS tb_clientes\")\n",
    "cursor_obj.execute(\"DROP TABLE IF EXISTS tb_productos\")\n",
    "cursor_obj.execute(\"DROP TABLE IF EXISTS tb_hechos_venta\")\n",
    "\n",
    "# fijarse en el tipo de dato de las columnas\n",
    "# Creating table\n",
    "table_c = \"\"\" CREATE TABLE tb_clientes (\n",
    "            id INT,\n",
    "            first VARCHAR(30),\n",
    "            last VARCHAR(30),\n",
    "            company VARCHAR(35),\n",
    "            created_at DATE,\n",
    "            country VARCHAR(20)\n",
    "        ); \"\"\"\n",
    "\n",
    "#'id','first','last','company','created_at','country'\n",
    "\n",
    "table_p = \"\"\" CREATE TABLE tb_productos (\n",
    "            product_id INT,\n",
    "            product_category_id INT,\n",
    "            product_name VARCHAR(30),\n",
    "            product_price FLOAT,\n",
    "            category_name VARCHAR(35)\n",
    "        ); \"\"\"\n",
    "\n",
    "\n",
    "table_h = \"\"\" CREATE TABLE tb_hechos_venta (\n",
    "            id INT,\n",
    "            order_item_product_id INT,\n",
    "            order_date DATE,\n",
    "            order_item_quantity INT,\n",
    "            order_status CHAR\n",
    "        ); \"\"\"\n",
    "\n",
    "\n",
    "cursor_obj.execute(table_c)\n",
    "cursor_obj.execute(table_p)\n",
    "cursor_obj.execute(table_h)\n",
    "  \n",
    "print(\"Table is Ready\")"
   ]
  },
  {
   "cell_type": "code",
   "execution_count": 49,
   "id": "2b548f88",
   "metadata": {},
   "outputs": [],
   "source": [
    "#for row in df_hechos.itertuples():#.iterrows():\n",
    "#    #print(row)\n",
    "#    inserth = f\"INSERT INTO tb_hechos_venta (client_id,order_item_product_id,order_date,order_item_quantity,order_status) values('{row[1]}','{row[2]}','{row[3]}','{row[4]}','{row[5]}')\"\n",
    "#    cursor_obj.execute(inserth)"
   ]
  },
  {
   "cell_type": "code",
   "execution_count": 50,
   "id": "c4db1492",
   "metadata": {},
   "outputs": [],
   "source": [
    "table_name = 'tb_hechos_venta'\n",
    "df_hechos.to_sql(name=table_name, con=connl, if_exists='append', index=False)\n",
    "connl.commit()"
   ]
  },
  {
   "cell_type": "code",
   "execution_count": 51,
   "id": "def6a349",
   "metadata": {},
   "outputs": [
    {
     "name": "stdout",
     "output_type": "stream",
     "text": [
      "(1, 191, '2013-12-13 00:00:00.0', 5, 'COMPLETE')\n"
     ]
    }
   ],
   "source": [
    "cursor_obj.execute(\"SELECT * FROM tb_hechos_venta\")               #Envía un comando de consulta\n",
    "registro = cursor_obj.fetchone()               #Extrae una registro de la última consulta\n",
    "print(registro)"
   ]
  },
  {
   "cell_type": "code",
   "execution_count": 52,
   "id": "1aa1492e",
   "metadata": {},
   "outputs": [
    {
     "data": {
      "text/plain": [
       "9999"
      ]
     },
     "execution_count": 52,
     "metadata": {},
     "output_type": "execute_result"
    }
   ],
   "source": [
    "table_name = 'tb_clientes'\n",
    "df_cliente.to_sql(name=table_name, con=connl, if_exists='append', index=False)"
   ]
  },
  {
   "cell_type": "code",
   "execution_count": 53,
   "id": "ed9853bb",
   "metadata": {},
   "outputs": [
    {
     "data": {
      "text/html": [
       "<div>\n",
       "<style scoped>\n",
       "    .dataframe tbody tr th:only-of-type {\n",
       "        vertical-align: middle;\n",
       "    }\n",
       "\n",
       "    .dataframe tbody tr th {\n",
       "        vertical-align: top;\n",
       "    }\n",
       "\n",
       "    .dataframe thead th {\n",
       "        text-align: right;\n",
       "    }\n",
       "</style>\n",
       "<table border=\"1\" class=\"dataframe\">\n",
       "  <thead>\n",
       "    <tr style=\"text-align: right;\">\n",
       "      <th></th>\n",
       "      <th>id</th>\n",
       "      <th>first</th>\n",
       "      <th>last</th>\n",
       "      <th>company</th>\n",
       "      <th>created_at</th>\n",
       "      <th>country</th>\n",
       "    </tr>\n",
       "  </thead>\n",
       "  <tbody>\n",
       "    <tr>\n",
       "      <th>0</th>\n",
       "      <td>1</td>\n",
       "      <td>Torrey</td>\n",
       "      <td>Veum</td>\n",
       "      <td>Hilll, Mayert and Wolf</td>\n",
       "      <td>2014-12-25 04:06:27.981000+00:00</td>\n",
       "      <td>Switzerland</td>\n",
       "    </tr>\n",
       "    <tr>\n",
       "      <th>1</th>\n",
       "      <td>2</td>\n",
       "      <td>Micah</td>\n",
       "      <td>Sanford</td>\n",
       "      <td>Stokes-Reichel</td>\n",
       "      <td>2014-07-03 16:08:17.044000+00:00</td>\n",
       "      <td>Democratic People's Republic of Korea</td>\n",
       "    </tr>\n",
       "    <tr>\n",
       "      <th>2</th>\n",
       "      <td>3</td>\n",
       "      <td>Hollis</td>\n",
       "      <td>Swift</td>\n",
       "      <td>Rodriguez, Cartwright and Kuhn</td>\n",
       "      <td>2014-08-18 06:15:16.731000+00:00</td>\n",
       "      <td>Tunisia</td>\n",
       "    </tr>\n",
       "    <tr>\n",
       "      <th>3</th>\n",
       "      <td>4</td>\n",
       "      <td>Perry</td>\n",
       "      <td>Leffler</td>\n",
       "      <td>Sipes, Feeney and Hansen</td>\n",
       "      <td>2014-07-10 11:31:40.235000+00:00</td>\n",
       "      <td>Chad</td>\n",
       "    </tr>\n",
       "    <tr>\n",
       "      <th>4</th>\n",
       "      <td>5</td>\n",
       "      <td>Janelle</td>\n",
       "      <td>Hagenes</td>\n",
       "      <td>Lesch and Daughters</td>\n",
       "      <td>2014-04-21 15:05:43.229000+00:00</td>\n",
       "      <td>Swaziland</td>\n",
       "    </tr>\n",
       "  </tbody>\n",
       "</table>\n",
       "</div>"
      ],
      "text/plain": [
       "   id    first     last                         company  \\\n",
       "0   1   Torrey     Veum          Hilll, Mayert and Wolf   \n",
       "1   2    Micah  Sanford                  Stokes-Reichel   \n",
       "2   3   Hollis    Swift  Rodriguez, Cartwright and Kuhn   \n",
       "3   4    Perry  Leffler        Sipes, Feeney and Hansen   \n",
       "4   5  Janelle  Hagenes             Lesch and Daughters   \n",
       "\n",
       "                        created_at                                country  \n",
       "0 2014-12-25 04:06:27.981000+00:00                            Switzerland  \n",
       "1 2014-07-03 16:08:17.044000+00:00  Democratic People's Republic of Korea  \n",
       "2 2014-08-18 06:15:16.731000+00:00                                Tunisia  \n",
       "3 2014-07-10 11:31:40.235000+00:00                                   Chad  \n",
       "4 2014-04-21 15:05:43.229000+00:00                              Swaziland  "
      ]
     },
     "execution_count": 53,
     "metadata": {},
     "output_type": "execute_result"
    }
   ],
   "source": [
    "df_cliente.head()"
   ]
  },
  {
   "cell_type": "code",
   "execution_count": 54,
   "id": "0216158c",
   "metadata": {},
   "outputs": [],
   "source": [
    "conn = sqlite3.connect(r'C:\\Users\\ELIGIO\\bd_proyecto.db') #ruta de la base de datos\n",
    "#  crear base de datos y tablas en sqlite\n",
    "#  base de datos: bd_proyecto\n",
    "#  tablas: tb_clientes, tb_productos, tb_hechos_venta\n",
    "\n",
    "# cursor object\n",
    "cursor_obj = conn.cursor()"
   ]
  },
  {
   "cell_type": "code",
   "execution_count": 55,
   "id": "3cf1c4f2",
   "metadata": {},
   "outputs": [
    {
     "name": "stdout",
     "output_type": "stream",
     "text": [
      "(1, 'Torrey', 'Veum', 'Hilll, Mayert and Wolf', '2014-12-25 04:06:27.981000+00:00', 'Switzerland')\n"
     ]
    }
   ],
   "source": [
    "cursor_obj.execute(\"SELECT * FROM tb_clientes\")               #Envía un comando de consulta\n",
    "registroc = cursor_obj.fetchone()               #Extrae una registro de la última consulta\n",
    "print(registroc)"
   ]
  },
  {
   "cell_type": "code",
   "execution_count": 56,
   "id": "e0fcf8f1",
   "metadata": {},
   "outputs": [
    {
     "data": {
      "text/plain": [
       "1344"
      ]
     },
     "execution_count": 56,
     "metadata": {},
     "output_type": "execute_result"
    }
   ],
   "source": [
    "table_name = 'tb_productos'\n",
    "df_productos.to_sql(name=table_name, con=conn, if_exists='append', index=False)"
   ]
  },
  {
   "cell_type": "code",
   "execution_count": 57,
   "id": "c04c1db1",
   "metadata": {},
   "outputs": [
    {
     "data": {
      "text/html": [
       "<div>\n",
       "<style scoped>\n",
       "    .dataframe tbody tr th:only-of-type {\n",
       "        vertical-align: middle;\n",
       "    }\n",
       "\n",
       "    .dataframe tbody tr th {\n",
       "        vertical-align: top;\n",
       "    }\n",
       "\n",
       "    .dataframe thead th {\n",
       "        text-align: right;\n",
       "    }\n",
       "</style>\n",
       "<table border=\"1\" class=\"dataframe\">\n",
       "  <thead>\n",
       "    <tr style=\"text-align: right;\">\n",
       "      <th></th>\n",
       "      <th>product_id</th>\n",
       "      <th>product_category_id</th>\n",
       "      <th>product_name</th>\n",
       "      <th>product_price</th>\n",
       "      <th>category_name</th>\n",
       "    </tr>\n",
       "  </thead>\n",
       "  <tbody>\n",
       "    <tr>\n",
       "      <th>0</th>\n",
       "      <td>2</td>\n",
       "      <td>2</td>\n",
       "      <td>Under Armour Men's Highlight MC Football Clea</td>\n",
       "      <td>129.99</td>\n",
       "      <td>Soccer</td>\n",
       "    </tr>\n",
       "    <tr>\n",
       "      <th>1</th>\n",
       "      <td>3</td>\n",
       "      <td>2</td>\n",
       "      <td>Under Armour Men's Renegade D Mid Football Cl</td>\n",
       "      <td>89.99</td>\n",
       "      <td>Soccer</td>\n",
       "    </tr>\n",
       "    <tr>\n",
       "      <th>2</th>\n",
       "      <td>4</td>\n",
       "      <td>2</td>\n",
       "      <td>Under Armour Men's Renegade D Mid Football Cl</td>\n",
       "      <td>89.99</td>\n",
       "      <td>Soccer</td>\n",
       "    </tr>\n",
       "    <tr>\n",
       "      <th>3</th>\n",
       "      <td>5</td>\n",
       "      <td>2</td>\n",
       "      <td>Riddell Youth Revolution Speed Custom Footbal</td>\n",
       "      <td>199.99</td>\n",
       "      <td>Soccer</td>\n",
       "    </tr>\n",
       "    <tr>\n",
       "      <th>4</th>\n",
       "      <td>6</td>\n",
       "      <td>2</td>\n",
       "      <td>Jordan Men's VI Retro TD Football Cleat</td>\n",
       "      <td>134.99</td>\n",
       "      <td>Soccer</td>\n",
       "    </tr>\n",
       "  </tbody>\n",
       "</table>\n",
       "</div>"
      ],
      "text/plain": [
       "   product_id  product_category_id  \\\n",
       "0           2                    2   \n",
       "1           3                    2   \n",
       "2           4                    2   \n",
       "3           5                    2   \n",
       "4           6                    2   \n",
       "\n",
       "                                    product_name  product_price category_name  \n",
       "0  Under Armour Men's Highlight MC Football Clea         129.99        Soccer  \n",
       "1  Under Armour Men's Renegade D Mid Football Cl          89.99        Soccer  \n",
       "2  Under Armour Men's Renegade D Mid Football Cl          89.99        Soccer  \n",
       "3  Riddell Youth Revolution Speed Custom Footbal         199.99        Soccer  \n",
       "4        Jordan Men's VI Retro TD Football Cleat         134.99        Soccer  "
      ]
     },
     "execution_count": 57,
     "metadata": {},
     "output_type": "execute_result"
    }
   ],
   "source": [
    "df_productos.head()"
   ]
  },
  {
   "cell_type": "code",
   "execution_count": 58,
   "id": "a2717a6c",
   "metadata": {},
   "outputs": [
    {
     "name": "stdout",
     "output_type": "stream",
     "text": [
      "(2, 2, \"Under Armour Men's Highlight MC Football Clea\", 129.99, 'Soccer')\n"
     ]
    }
   ],
   "source": [
    "cursor_obj.execute(\"SELECT * FROM tb_productos\")               #Envía un comando de consulta\n",
    "registroc = cursor_obj.fetchone()               #Extrae una registro de la última consulta\n",
    "print(registroc)"
   ]
  },
  {
   "cell_type": "markdown",
   "id": "eb3a78e2",
   "metadata": {},
   "source": [
    "## Mysql"
   ]
  },
  {
   "cell_type": "code",
   "execution_count": 59,
   "id": "3f910646",
   "metadata": {},
   "outputs": [],
   "source": [
    "import pymysql\n",
    "\n",
    "connm = pymysql.connect(host=\"localhost\", user=\"root\", password=\"\", database=\"proyectodae\", charset='utf8mb4')\n",
    "\n",
    "cursorm = connm.cursor(pymysql.cursors.DictCursor)"
   ]
  },
  {
   "cell_type": "code",
   "execution_count": 60,
   "id": "960a4cc2",
   "metadata": {},
   "outputs": [
    {
     "name": "stdout",
     "output_type": "stream",
     "text": [
      "Table is Ready\n"
     ]
    }
   ],
   "source": [
    "# Drop the GEEK table if already exists.\n",
    "cursorm.execute(\"DROP TABLE IF EXISTS tb_clientes\")\n",
    "cursorm.execute(\"DROP TABLE IF EXISTS tb_productos\")\n",
    "cursorm.execute(\"DROP TABLE IF EXISTS tb_hechos_venta\")\n",
    "\n",
    "table_c = \"\"\" CREATE TABLE tb_clientes (\n",
    "            id INT,\n",
    "            first VARCHAR(30),\n",
    "            last VARCHAR(30),\n",
    "            company VARCHAR(35),\n",
    "            created_at DATE,\n",
    "            country VARCHAR(20)\n",
    "        ); \"\"\"\n",
    "\n",
    "#'id','first','last','company','created_at','country'\n",
    "\n",
    "table_p = \"\"\" CREATE TABLE tb_productos (\n",
    "            product_id INT,\n",
    "            product_category_id INT,\n",
    "            product_name VARCHAR(30),\n",
    "            product_price FLOAT,\n",
    "            category_name VARCHAR(35)\n",
    "        ); \"\"\"\n",
    "\n",
    "\n",
    "table_h = \"\"\" CREATE TABLE tb_hechos_venta (\n",
    "            id INT,\n",
    "            order_item_product_id INT,\n",
    "            order_date DATE,\n",
    "            order_item_quantity INT,\n",
    "            order_status VARCHAR(20)\n",
    "        ); \"\"\"\n",
    "\n",
    "\n",
    "cursorm.execute(table_c)\n",
    "cursorm.execute(table_p)\n",
    "cursorm.execute(table_h)\n",
    "  \n",
    "print(\"Table is Ready\")"
   ]
  },
  {
   "cell_type": "code",
   "execution_count": 61,
   "id": "dd015419",
   "metadata": {
    "scrolled": true
   },
   "outputs": [],
   "source": [
    "#table_name = 'tb_hechos_venta'\n",
    "#df_hechos.to_sql(name=table_name, con=conn, if_exists='append', index=False)"
   ]
  },
  {
   "cell_type": "markdown",
   "id": "48632a1b",
   "metadata": {},
   "source": [
    "#### Tabla de hechos"
   ]
  },
  {
   "cell_type": "code",
   "execution_count": 62,
   "id": "241a26c8",
   "metadata": {},
   "outputs": [],
   "source": [
    "for row in df_hechos.itertuples():#.iterrows():\n",
    "    #print(row)\n",
    "    inserth = f\"INSERT INTO tb_hechos_venta (id,order_item_product_id,order_date,order_item_quantity,order_status) values('{row[1]}','{row[2]}','{row[3]}','{row[4]}','{row[5]}')\"\n",
    "    cursorm.execute(inserth)"
   ]
  },
  {
   "cell_type": "code",
   "execution_count": 63,
   "id": "bb0dd490",
   "metadata": {},
   "outputs": [],
   "source": [
    "connm.commit()"
   ]
  },
  {
   "cell_type": "code",
   "execution_count": 64,
   "id": "1d1d1573",
   "metadata": {
    "scrolled": true
   },
   "outputs": [
    {
     "name": "stdout",
     "output_type": "stream",
     "text": [
      "{'id': 1, 'order_item_product_id': 191, 'order_date': datetime.date(2013, 12, 13), 'order_item_quantity': 5, 'order_status': 'COMPLETE'}\n"
     ]
    }
   ],
   "source": [
    "cursorm.execute(\"SELECT * FROM tb_hechos_venta\")               #Envía un comando de consulta\n",
    "registro = cursorm.fetchone()               #Extrae una registro de la última consulta\n",
    "print(registro)"
   ]
  },
  {
   "cell_type": "code",
   "execution_count": 65,
   "id": "7db1fe04",
   "metadata": {},
   "outputs": [
    {
     "ename": "DatabaseError",
     "evalue": "Execution failed on sql 'SELECT name FROM sqlite_master WHERE type='table' AND name=?;': not all arguments converted during string formatting",
     "output_type": "error",
     "traceback": [
      "\u001b[1;31m---------------------------------------------------------------------------\u001b[0m",
      "\u001b[1;31mTypeError\u001b[0m                                 Traceback (most recent call last)",
      "\u001b[1;32m~\\anaconda3\\envs\\datascienceandres\\lib\\site-packages\\pandas\\io\\sql.py\u001b[0m in \u001b[0;36mexecute\u001b[1;34m(self, *args, **kwargs)\u001b[0m\n\u001b[0;32m   2019\u001b[0m         \u001b[1;32mtry\u001b[0m\u001b[1;33m:\u001b[0m\u001b[1;33m\u001b[0m\u001b[1;33m\u001b[0m\u001b[0m\n\u001b[1;32m-> 2020\u001b[1;33m             \u001b[0mcur\u001b[0m\u001b[1;33m.\u001b[0m\u001b[0mexecute\u001b[0m\u001b[1;33m(\u001b[0m\u001b[1;33m*\u001b[0m\u001b[0margs\u001b[0m\u001b[1;33m,\u001b[0m \u001b[1;33m**\u001b[0m\u001b[0mkwargs\u001b[0m\u001b[1;33m)\u001b[0m\u001b[1;33m\u001b[0m\u001b[1;33m\u001b[0m\u001b[0m\n\u001b[0m\u001b[0;32m   2021\u001b[0m             \u001b[1;32mreturn\u001b[0m \u001b[0mcur\u001b[0m\u001b[1;33m\u001b[0m\u001b[1;33m\u001b[0m\u001b[0m\n",
      "\u001b[1;32m~\\anaconda3\\envs\\datascienceandres\\lib\\site-packages\\pymysql\\cursors.py\u001b[0m in \u001b[0;36mexecute\u001b[1;34m(self, query, args)\u001b[0m\n\u001b[0;32m    145\u001b[0m \u001b[1;33m\u001b[0m\u001b[0m\n\u001b[1;32m--> 146\u001b[1;33m         \u001b[0mquery\u001b[0m \u001b[1;33m=\u001b[0m \u001b[0mself\u001b[0m\u001b[1;33m.\u001b[0m\u001b[0mmogrify\u001b[0m\u001b[1;33m(\u001b[0m\u001b[0mquery\u001b[0m\u001b[1;33m,\u001b[0m \u001b[0margs\u001b[0m\u001b[1;33m)\u001b[0m\u001b[1;33m\u001b[0m\u001b[1;33m\u001b[0m\u001b[0m\n\u001b[0m\u001b[0;32m    147\u001b[0m \u001b[1;33m\u001b[0m\u001b[0m\n",
      "\u001b[1;32m~\\anaconda3\\envs\\datascienceandres\\lib\\site-packages\\pymysql\\cursors.py\u001b[0m in \u001b[0;36mmogrify\u001b[1;34m(self, query, args)\u001b[0m\n\u001b[0;32m    124\u001b[0m         \u001b[1;32mif\u001b[0m \u001b[0margs\u001b[0m \u001b[1;32mis\u001b[0m \u001b[1;32mnot\u001b[0m \u001b[1;32mNone\u001b[0m\u001b[1;33m:\u001b[0m\u001b[1;33m\u001b[0m\u001b[1;33m\u001b[0m\u001b[0m\n\u001b[1;32m--> 125\u001b[1;33m             \u001b[0mquery\u001b[0m \u001b[1;33m=\u001b[0m \u001b[0mquery\u001b[0m \u001b[1;33m%\u001b[0m \u001b[0mself\u001b[0m\u001b[1;33m.\u001b[0m\u001b[0m_escape_args\u001b[0m\u001b[1;33m(\u001b[0m\u001b[0margs\u001b[0m\u001b[1;33m,\u001b[0m \u001b[0mconn\u001b[0m\u001b[1;33m)\u001b[0m\u001b[1;33m\u001b[0m\u001b[1;33m\u001b[0m\u001b[0m\n\u001b[0m\u001b[0;32m    126\u001b[0m \u001b[1;33m\u001b[0m\u001b[0m\n",
      "\u001b[1;31mTypeError\u001b[0m: not all arguments converted during string formatting",
      "\nThe above exception was the direct cause of the following exception:\n",
      "\u001b[1;31mDatabaseError\u001b[0m                             Traceback (most recent call last)",
      "\u001b[1;32m~\\AppData\\Local\\Temp/ipykernel_11320/2390488726.py\u001b[0m in \u001b[0;36m<module>\u001b[1;34m\u001b[0m\n\u001b[0;32m      1\u001b[0m \u001b[0mtable_name\u001b[0m \u001b[1;33m=\u001b[0m \u001b[1;34m'tb_hechos_venta'\u001b[0m\u001b[1;33m\u001b[0m\u001b[1;33m\u001b[0m\u001b[0m\n\u001b[1;32m----> 2\u001b[1;33m \u001b[0mdf_hechos\u001b[0m\u001b[1;33m.\u001b[0m\u001b[0mto_sql\u001b[0m\u001b[1;33m(\u001b[0m\u001b[0mname\u001b[0m\u001b[1;33m=\u001b[0m\u001b[0mtable_name\u001b[0m\u001b[1;33m,\u001b[0m \u001b[0mcon\u001b[0m\u001b[1;33m=\u001b[0m\u001b[0mconnm\u001b[0m\u001b[1;33m,\u001b[0m \u001b[0mif_exists\u001b[0m\u001b[1;33m=\u001b[0m\u001b[1;34m'append'\u001b[0m\u001b[1;33m,\u001b[0m \u001b[0mindex\u001b[0m\u001b[1;33m=\u001b[0m\u001b[1;32mFalse\u001b[0m\u001b[1;33m)\u001b[0m\u001b[1;33m\u001b[0m\u001b[1;33m\u001b[0m\u001b[0m\n\u001b[0m\u001b[0;32m      3\u001b[0m \u001b[0mconnm\u001b[0m\u001b[1;33m.\u001b[0m\u001b[0mcommit\u001b[0m\u001b[1;33m(\u001b[0m\u001b[1;33m)\u001b[0m\u001b[1;33m\u001b[0m\u001b[1;33m\u001b[0m\u001b[0m\n",
      "\u001b[1;32m~\\anaconda3\\envs\\datascienceandres\\lib\\site-packages\\pandas\\core\\generic.py\u001b[0m in \u001b[0;36mto_sql\u001b[1;34m(self, name, con, schema, if_exists, index, index_label, chunksize, dtype, method)\u001b[0m\n\u001b[0;32m   2961\u001b[0m         \u001b[1;32mfrom\u001b[0m \u001b[0mpandas\u001b[0m\u001b[1;33m.\u001b[0m\u001b[0mio\u001b[0m \u001b[1;32mimport\u001b[0m \u001b[0msql\u001b[0m\u001b[1;33m\u001b[0m\u001b[1;33m\u001b[0m\u001b[0m\n\u001b[0;32m   2962\u001b[0m \u001b[1;33m\u001b[0m\u001b[0m\n\u001b[1;32m-> 2963\u001b[1;33m         return sql.to_sql(\n\u001b[0m\u001b[0;32m   2964\u001b[0m             \u001b[0mself\u001b[0m\u001b[1;33m,\u001b[0m\u001b[1;33m\u001b[0m\u001b[1;33m\u001b[0m\u001b[0m\n\u001b[0;32m   2965\u001b[0m             \u001b[0mname\u001b[0m\u001b[1;33m,\u001b[0m\u001b[1;33m\u001b[0m\u001b[1;33m\u001b[0m\u001b[0m\n",
      "\u001b[1;32m~\\anaconda3\\envs\\datascienceandres\\lib\\site-packages\\pandas\\io\\sql.py\u001b[0m in \u001b[0;36mto_sql\u001b[1;34m(frame, name, con, schema, if_exists, index, index_label, chunksize, dtype, method, engine, **engine_kwargs)\u001b[0m\n\u001b[0;32m    695\u001b[0m         )\n\u001b[0;32m    696\u001b[0m \u001b[1;33m\u001b[0m\u001b[0m\n\u001b[1;32m--> 697\u001b[1;33m     return pandas_sql.to_sql(\n\u001b[0m\u001b[0;32m    698\u001b[0m         \u001b[0mframe\u001b[0m\u001b[1;33m,\u001b[0m\u001b[1;33m\u001b[0m\u001b[1;33m\u001b[0m\u001b[0m\n\u001b[0;32m    699\u001b[0m         \u001b[0mname\u001b[0m\u001b[1;33m,\u001b[0m\u001b[1;33m\u001b[0m\u001b[1;33m\u001b[0m\u001b[0m\n",
      "\u001b[1;32m~\\anaconda3\\envs\\datascienceandres\\lib\\site-packages\\pandas\\io\\sql.py\u001b[0m in \u001b[0;36mto_sql\u001b[1;34m(self, frame, name, if_exists, index, index_label, schema, chunksize, dtype, method, **kwargs)\u001b[0m\n\u001b[0;32m   2187\u001b[0m             \u001b[0mdtype\u001b[0m\u001b[1;33m=\u001b[0m\u001b[0mdtype\u001b[0m\u001b[1;33m,\u001b[0m\u001b[1;33m\u001b[0m\u001b[1;33m\u001b[0m\u001b[0m\n\u001b[0;32m   2188\u001b[0m         )\n\u001b[1;32m-> 2189\u001b[1;33m         \u001b[0mtable\u001b[0m\u001b[1;33m.\u001b[0m\u001b[0mcreate\u001b[0m\u001b[1;33m(\u001b[0m\u001b[1;33m)\u001b[0m\u001b[1;33m\u001b[0m\u001b[1;33m\u001b[0m\u001b[0m\n\u001b[0m\u001b[0;32m   2190\u001b[0m         \u001b[1;32mreturn\u001b[0m \u001b[0mtable\u001b[0m\u001b[1;33m.\u001b[0m\u001b[0minsert\u001b[0m\u001b[1;33m(\u001b[0m\u001b[0mchunksize\u001b[0m\u001b[1;33m,\u001b[0m \u001b[0mmethod\u001b[0m\u001b[1;33m)\u001b[0m\u001b[1;33m\u001b[0m\u001b[1;33m\u001b[0m\u001b[0m\n\u001b[0;32m   2191\u001b[0m \u001b[1;33m\u001b[0m\u001b[0m\n",
      "\u001b[1;32m~\\anaconda3\\envs\\datascienceandres\\lib\\site-packages\\pandas\\io\\sql.py\u001b[0m in \u001b[0;36mcreate\u001b[1;34m(self)\u001b[0m\n\u001b[0;32m    829\u001b[0m \u001b[1;33m\u001b[0m\u001b[0m\n\u001b[0;32m    830\u001b[0m     \u001b[1;32mdef\u001b[0m \u001b[0mcreate\u001b[0m\u001b[1;33m(\u001b[0m\u001b[0mself\u001b[0m\u001b[1;33m)\u001b[0m\u001b[1;33m:\u001b[0m\u001b[1;33m\u001b[0m\u001b[1;33m\u001b[0m\u001b[0m\n\u001b[1;32m--> 831\u001b[1;33m         \u001b[1;32mif\u001b[0m \u001b[0mself\u001b[0m\u001b[1;33m.\u001b[0m\u001b[0mexists\u001b[0m\u001b[1;33m(\u001b[0m\u001b[1;33m)\u001b[0m\u001b[1;33m:\u001b[0m\u001b[1;33m\u001b[0m\u001b[1;33m\u001b[0m\u001b[0m\n\u001b[0m\u001b[0;32m    832\u001b[0m             \u001b[1;32mif\u001b[0m \u001b[0mself\u001b[0m\u001b[1;33m.\u001b[0m\u001b[0mif_exists\u001b[0m \u001b[1;33m==\u001b[0m \u001b[1;34m\"fail\"\u001b[0m\u001b[1;33m:\u001b[0m\u001b[1;33m\u001b[0m\u001b[1;33m\u001b[0m\u001b[0m\n\u001b[0;32m    833\u001b[0m                 \u001b[1;32mraise\u001b[0m \u001b[0mValueError\u001b[0m\u001b[1;33m(\u001b[0m\u001b[1;34mf\"Table '{self.name}' already exists.\"\u001b[0m\u001b[1;33m)\u001b[0m\u001b[1;33m\u001b[0m\u001b[1;33m\u001b[0m\u001b[0m\n",
      "\u001b[1;32m~\\anaconda3\\envs\\datascienceandres\\lib\\site-packages\\pandas\\io\\sql.py\u001b[0m in \u001b[0;36mexists\u001b[1;34m(self)\u001b[0m\n\u001b[0;32m    813\u001b[0m \u001b[1;33m\u001b[0m\u001b[0m\n\u001b[0;32m    814\u001b[0m     \u001b[1;32mdef\u001b[0m \u001b[0mexists\u001b[0m\u001b[1;33m(\u001b[0m\u001b[0mself\u001b[0m\u001b[1;33m)\u001b[0m\u001b[1;33m:\u001b[0m\u001b[1;33m\u001b[0m\u001b[1;33m\u001b[0m\u001b[0m\n\u001b[1;32m--> 815\u001b[1;33m         \u001b[1;32mreturn\u001b[0m \u001b[0mself\u001b[0m\u001b[1;33m.\u001b[0m\u001b[0mpd_sql\u001b[0m\u001b[1;33m.\u001b[0m\u001b[0mhas_table\u001b[0m\u001b[1;33m(\u001b[0m\u001b[0mself\u001b[0m\u001b[1;33m.\u001b[0m\u001b[0mname\u001b[0m\u001b[1;33m,\u001b[0m \u001b[0mself\u001b[0m\u001b[1;33m.\u001b[0m\u001b[0mschema\u001b[0m\u001b[1;33m)\u001b[0m\u001b[1;33m\u001b[0m\u001b[1;33m\u001b[0m\u001b[0m\n\u001b[0m\u001b[0;32m    816\u001b[0m \u001b[1;33m\u001b[0m\u001b[0m\n\u001b[0;32m    817\u001b[0m     \u001b[1;32mdef\u001b[0m \u001b[0msql_schema\u001b[0m\u001b[1;33m(\u001b[0m\u001b[0mself\u001b[0m\u001b[1;33m)\u001b[0m\u001b[1;33m:\u001b[0m\u001b[1;33m\u001b[0m\u001b[1;33m\u001b[0m\u001b[0m\n",
      "\u001b[1;32m~\\anaconda3\\envs\\datascienceandres\\lib\\site-packages\\pandas\\io\\sql.py\u001b[0m in \u001b[0;36mhas_table\u001b[1;34m(self, name, schema)\u001b[0m\n\u001b[0;32m   2195\u001b[0m         \u001b[0mquery\u001b[0m \u001b[1;33m=\u001b[0m \u001b[1;34mf\"SELECT name FROM sqlite_master WHERE type='table' AND name={wld};\"\u001b[0m\u001b[1;33m\u001b[0m\u001b[1;33m\u001b[0m\u001b[0m\n\u001b[0;32m   2196\u001b[0m \u001b[1;33m\u001b[0m\u001b[0m\n\u001b[1;32m-> 2197\u001b[1;33m         \u001b[1;32mreturn\u001b[0m \u001b[0mlen\u001b[0m\u001b[1;33m(\u001b[0m\u001b[0mself\u001b[0m\u001b[1;33m.\u001b[0m\u001b[0mexecute\u001b[0m\u001b[1;33m(\u001b[0m\u001b[0mquery\u001b[0m\u001b[1;33m,\u001b[0m \u001b[1;33m[\u001b[0m\u001b[0mname\u001b[0m\u001b[1;33m]\u001b[0m\u001b[1;33m)\u001b[0m\u001b[1;33m.\u001b[0m\u001b[0mfetchall\u001b[0m\u001b[1;33m(\u001b[0m\u001b[1;33m)\u001b[0m\u001b[1;33m)\u001b[0m \u001b[1;33m>\u001b[0m \u001b[1;36m0\u001b[0m\u001b[1;33m\u001b[0m\u001b[1;33m\u001b[0m\u001b[0m\n\u001b[0m\u001b[0;32m   2198\u001b[0m \u001b[1;33m\u001b[0m\u001b[0m\n\u001b[0;32m   2199\u001b[0m     \u001b[1;32mdef\u001b[0m \u001b[0mget_table\u001b[0m\u001b[1;33m(\u001b[0m\u001b[0mself\u001b[0m\u001b[1;33m,\u001b[0m \u001b[0mtable_name\u001b[0m\u001b[1;33m:\u001b[0m \u001b[0mstr\u001b[0m\u001b[1;33m,\u001b[0m \u001b[0mschema\u001b[0m\u001b[1;33m:\u001b[0m \u001b[0mstr\u001b[0m \u001b[1;33m|\u001b[0m \u001b[1;32mNone\u001b[0m \u001b[1;33m=\u001b[0m \u001b[1;32mNone\u001b[0m\u001b[1;33m)\u001b[0m\u001b[1;33m:\u001b[0m\u001b[1;33m\u001b[0m\u001b[1;33m\u001b[0m\u001b[0m\n",
      "\u001b[1;32m~\\anaconda3\\envs\\datascienceandres\\lib\\site-packages\\pandas\\io\\sql.py\u001b[0m in \u001b[0;36mexecute\u001b[1;34m(self, *args, **kwargs)\u001b[0m\n\u001b[0;32m   2030\u001b[0m \u001b[1;33m\u001b[0m\u001b[0m\n\u001b[0;32m   2031\u001b[0m             \u001b[0mex\u001b[0m \u001b[1;33m=\u001b[0m \u001b[0mDatabaseError\u001b[0m\u001b[1;33m(\u001b[0m\u001b[1;34mf\"Execution failed on sql '{args[0]}': {exc}\"\u001b[0m\u001b[1;33m)\u001b[0m\u001b[1;33m\u001b[0m\u001b[1;33m\u001b[0m\u001b[0m\n\u001b[1;32m-> 2032\u001b[1;33m             \u001b[1;32mraise\u001b[0m \u001b[0mex\u001b[0m \u001b[1;32mfrom\u001b[0m \u001b[0mexc\u001b[0m\u001b[1;33m\u001b[0m\u001b[1;33m\u001b[0m\u001b[0m\n\u001b[0m\u001b[0;32m   2033\u001b[0m \u001b[1;33m\u001b[0m\u001b[0m\n\u001b[0;32m   2034\u001b[0m     \u001b[1;33m@\u001b[0m\u001b[0mstaticmethod\u001b[0m\u001b[1;33m\u001b[0m\u001b[1;33m\u001b[0m\u001b[0m\n",
      "\u001b[1;31mDatabaseError\u001b[0m: Execution failed on sql 'SELECT name FROM sqlite_master WHERE type='table' AND name=?;': not all arguments converted during string formatting"
     ]
    }
   ],
   "source": [
    "table_name = 'tb_hechos_venta'\n",
    "df_hechos.to_sql(name=table_name, con=connm, if_exists='append', index=False)\n",
    "connm.commit()"
   ]
  },
  {
   "cell_type": "code",
   "execution_count": null,
   "id": "7cabe1a5",
   "metadata": {},
   "outputs": [],
   "source": [
    "cursorm.execute(\"SELECT * FROM tb_hechos_venta\")               #Envía un comando de consulta\n",
    "registro = cursorm.fetchone()               #Extrae una registro de la última consulta\n",
    "print(registro)"
   ]
  },
  {
   "cell_type": "markdown",
   "id": "7fd5848f",
   "metadata": {},
   "source": [
    "#### Tabla de clientes"
   ]
  },
  {
   "cell_type": "code",
   "execution_count": 111,
   "id": "5d9b7920",
   "metadata": {},
   "outputs": [],
   "source": [
    "for row in df_cliente.itertuples():#.iterrows():\n",
    "    #print(row)\n",
    "    insertc = f\"INSERT INTO tb_clientes (id,first,last,company,created_at, country) values('{row[1]}','{row[2]}','{row[3]}','{row[4]}','{row[5]}','{row[6]}')\"\n",
    "    cursorm.execute(insertc)\n",
    "\n",
    "connm.commit()"
   ]
  },
  {
   "cell_type": "code",
   "execution_count": 112,
   "id": "4ca86d1a",
   "metadata": {},
   "outputs": [
    {
     "name": "stdout",
     "output_type": "stream",
     "text": [
      "{'id': 1, 'first': 'Torrey', 'last': 'Veum', 'company': 'Hilll, Mayert and Wolf', 'created_at': datetime.date(2014, 12, 25), 'country': 'Switzerland'}\n"
     ]
    }
   ],
   "source": [
    "cursorm.execute(\"SELECT * FROM tb_clientes\")               #Envía un comando de consulta\n",
    "registro = cursorm.fetchone()               #Extrae una registro de la última consulta\n",
    "print(registro)"
   ]
  },
  {
   "cell_type": "code",
   "execution_count": 84,
   "id": "a489c609",
   "metadata": {},
   "outputs": [
    {
     "ename": "DatabaseError",
     "evalue": "Execution failed on sql 'SELECT name FROM sqlite_master WHERE type='table' AND name=?;': not all arguments converted during string formatting",
     "output_type": "error",
     "traceback": [
      "\u001b[1;31m---------------------------------------------------------------------------\u001b[0m",
      "\u001b[1;31mTypeError\u001b[0m                                 Traceback (most recent call last)",
      "\u001b[1;32m~\\anaconda3\\envs\\datascienceandres\\lib\\site-packages\\pandas\\io\\sql.py\u001b[0m in \u001b[0;36mexecute\u001b[1;34m(self, *args, **kwargs)\u001b[0m\n\u001b[0;32m   2019\u001b[0m         \u001b[1;32mtry\u001b[0m\u001b[1;33m:\u001b[0m\u001b[1;33m\u001b[0m\u001b[1;33m\u001b[0m\u001b[0m\n\u001b[1;32m-> 2020\u001b[1;33m             \u001b[0mcur\u001b[0m\u001b[1;33m.\u001b[0m\u001b[0mexecute\u001b[0m\u001b[1;33m(\u001b[0m\u001b[1;33m*\u001b[0m\u001b[0margs\u001b[0m\u001b[1;33m,\u001b[0m \u001b[1;33m**\u001b[0m\u001b[0mkwargs\u001b[0m\u001b[1;33m)\u001b[0m\u001b[1;33m\u001b[0m\u001b[1;33m\u001b[0m\u001b[0m\n\u001b[0m\u001b[0;32m   2021\u001b[0m             \u001b[1;32mreturn\u001b[0m \u001b[0mcur\u001b[0m\u001b[1;33m\u001b[0m\u001b[1;33m\u001b[0m\u001b[0m\n",
      "\u001b[1;32m~\\anaconda3\\envs\\datascienceandres\\lib\\site-packages\\pymysql\\cursors.py\u001b[0m in \u001b[0;36mexecute\u001b[1;34m(self, query, args)\u001b[0m\n\u001b[0;32m    145\u001b[0m \u001b[1;33m\u001b[0m\u001b[0m\n\u001b[1;32m--> 146\u001b[1;33m         \u001b[0mquery\u001b[0m \u001b[1;33m=\u001b[0m \u001b[0mself\u001b[0m\u001b[1;33m.\u001b[0m\u001b[0mmogrify\u001b[0m\u001b[1;33m(\u001b[0m\u001b[0mquery\u001b[0m\u001b[1;33m,\u001b[0m \u001b[0margs\u001b[0m\u001b[1;33m)\u001b[0m\u001b[1;33m\u001b[0m\u001b[1;33m\u001b[0m\u001b[0m\n\u001b[0m\u001b[0;32m    147\u001b[0m \u001b[1;33m\u001b[0m\u001b[0m\n",
      "\u001b[1;32m~\\anaconda3\\envs\\datascienceandres\\lib\\site-packages\\pymysql\\cursors.py\u001b[0m in \u001b[0;36mmogrify\u001b[1;34m(self, query, args)\u001b[0m\n\u001b[0;32m    124\u001b[0m         \u001b[1;32mif\u001b[0m \u001b[0margs\u001b[0m \u001b[1;32mis\u001b[0m \u001b[1;32mnot\u001b[0m \u001b[1;32mNone\u001b[0m\u001b[1;33m:\u001b[0m\u001b[1;33m\u001b[0m\u001b[1;33m\u001b[0m\u001b[0m\n\u001b[1;32m--> 125\u001b[1;33m             \u001b[0mquery\u001b[0m \u001b[1;33m=\u001b[0m \u001b[0mquery\u001b[0m \u001b[1;33m%\u001b[0m \u001b[0mself\u001b[0m\u001b[1;33m.\u001b[0m\u001b[0m_escape_args\u001b[0m\u001b[1;33m(\u001b[0m\u001b[0margs\u001b[0m\u001b[1;33m,\u001b[0m \u001b[0mconn\u001b[0m\u001b[1;33m)\u001b[0m\u001b[1;33m\u001b[0m\u001b[1;33m\u001b[0m\u001b[0m\n\u001b[0m\u001b[0;32m    126\u001b[0m \u001b[1;33m\u001b[0m\u001b[0m\n",
      "\u001b[1;31mTypeError\u001b[0m: not all arguments converted during string formatting",
      "\nThe above exception was the direct cause of the following exception:\n",
      "\u001b[1;31mDatabaseError\u001b[0m                             Traceback (most recent call last)",
      "\u001b[1;32m~\\AppData\\Local\\Temp/ipykernel_11320/3321264565.py\u001b[0m in \u001b[0;36m<module>\u001b[1;34m\u001b[0m\n\u001b[0;32m      1\u001b[0m \u001b[0mtable_name\u001b[0m \u001b[1;33m=\u001b[0m \u001b[1;34m'tb_clientes'\u001b[0m\u001b[1;33m\u001b[0m\u001b[1;33m\u001b[0m\u001b[0m\n\u001b[1;32m----> 2\u001b[1;33m \u001b[0mdf_cliente\u001b[0m\u001b[1;33m.\u001b[0m\u001b[0mto_sql\u001b[0m\u001b[1;33m(\u001b[0m\u001b[0mname\u001b[0m\u001b[1;33m=\u001b[0m\u001b[0mtable_name\u001b[0m\u001b[1;33m,\u001b[0m \u001b[0mcon\u001b[0m\u001b[1;33m=\u001b[0m\u001b[0mconnm\u001b[0m\u001b[1;33m,\u001b[0m \u001b[0mif_exists\u001b[0m\u001b[1;33m=\u001b[0m\u001b[1;34m'append'\u001b[0m\u001b[1;33m,\u001b[0m \u001b[0mindex\u001b[0m\u001b[1;33m=\u001b[0m\u001b[1;32mFalse\u001b[0m\u001b[1;33m)\u001b[0m\u001b[1;33m\u001b[0m\u001b[1;33m\u001b[0m\u001b[0m\n\u001b[0m\u001b[0;32m      3\u001b[0m \u001b[0mconnm\u001b[0m\u001b[1;33m.\u001b[0m\u001b[0mcommit\u001b[0m\u001b[1;33m(\u001b[0m\u001b[1;33m)\u001b[0m\u001b[1;33m\u001b[0m\u001b[1;33m\u001b[0m\u001b[0m\n",
      "\u001b[1;32m~\\anaconda3\\envs\\datascienceandres\\lib\\site-packages\\pandas\\core\\generic.py\u001b[0m in \u001b[0;36mto_sql\u001b[1;34m(self, name, con, schema, if_exists, index, index_label, chunksize, dtype, method)\u001b[0m\n\u001b[0;32m   2961\u001b[0m         \u001b[1;32mfrom\u001b[0m \u001b[0mpandas\u001b[0m\u001b[1;33m.\u001b[0m\u001b[0mio\u001b[0m \u001b[1;32mimport\u001b[0m \u001b[0msql\u001b[0m\u001b[1;33m\u001b[0m\u001b[1;33m\u001b[0m\u001b[0m\n\u001b[0;32m   2962\u001b[0m \u001b[1;33m\u001b[0m\u001b[0m\n\u001b[1;32m-> 2963\u001b[1;33m         return sql.to_sql(\n\u001b[0m\u001b[0;32m   2964\u001b[0m             \u001b[0mself\u001b[0m\u001b[1;33m,\u001b[0m\u001b[1;33m\u001b[0m\u001b[1;33m\u001b[0m\u001b[0m\n\u001b[0;32m   2965\u001b[0m             \u001b[0mname\u001b[0m\u001b[1;33m,\u001b[0m\u001b[1;33m\u001b[0m\u001b[1;33m\u001b[0m\u001b[0m\n",
      "\u001b[1;32m~\\anaconda3\\envs\\datascienceandres\\lib\\site-packages\\pandas\\io\\sql.py\u001b[0m in \u001b[0;36mto_sql\u001b[1;34m(frame, name, con, schema, if_exists, index, index_label, chunksize, dtype, method, engine, **engine_kwargs)\u001b[0m\n\u001b[0;32m    695\u001b[0m         )\n\u001b[0;32m    696\u001b[0m \u001b[1;33m\u001b[0m\u001b[0m\n\u001b[1;32m--> 697\u001b[1;33m     return pandas_sql.to_sql(\n\u001b[0m\u001b[0;32m    698\u001b[0m         \u001b[0mframe\u001b[0m\u001b[1;33m,\u001b[0m\u001b[1;33m\u001b[0m\u001b[1;33m\u001b[0m\u001b[0m\n\u001b[0;32m    699\u001b[0m         \u001b[0mname\u001b[0m\u001b[1;33m,\u001b[0m\u001b[1;33m\u001b[0m\u001b[1;33m\u001b[0m\u001b[0m\n",
      "\u001b[1;32m~\\anaconda3\\envs\\datascienceandres\\lib\\site-packages\\pandas\\io\\sql.py\u001b[0m in \u001b[0;36mto_sql\u001b[1;34m(self, frame, name, if_exists, index, index_label, schema, chunksize, dtype, method, **kwargs)\u001b[0m\n\u001b[0;32m   2187\u001b[0m             \u001b[0mdtype\u001b[0m\u001b[1;33m=\u001b[0m\u001b[0mdtype\u001b[0m\u001b[1;33m,\u001b[0m\u001b[1;33m\u001b[0m\u001b[1;33m\u001b[0m\u001b[0m\n\u001b[0;32m   2188\u001b[0m         )\n\u001b[1;32m-> 2189\u001b[1;33m         \u001b[0mtable\u001b[0m\u001b[1;33m.\u001b[0m\u001b[0mcreate\u001b[0m\u001b[1;33m(\u001b[0m\u001b[1;33m)\u001b[0m\u001b[1;33m\u001b[0m\u001b[1;33m\u001b[0m\u001b[0m\n\u001b[0m\u001b[0;32m   2190\u001b[0m         \u001b[1;32mreturn\u001b[0m \u001b[0mtable\u001b[0m\u001b[1;33m.\u001b[0m\u001b[0minsert\u001b[0m\u001b[1;33m(\u001b[0m\u001b[0mchunksize\u001b[0m\u001b[1;33m,\u001b[0m \u001b[0mmethod\u001b[0m\u001b[1;33m)\u001b[0m\u001b[1;33m\u001b[0m\u001b[1;33m\u001b[0m\u001b[0m\n\u001b[0;32m   2191\u001b[0m \u001b[1;33m\u001b[0m\u001b[0m\n",
      "\u001b[1;32m~\\anaconda3\\envs\\datascienceandres\\lib\\site-packages\\pandas\\io\\sql.py\u001b[0m in \u001b[0;36mcreate\u001b[1;34m(self)\u001b[0m\n\u001b[0;32m    829\u001b[0m \u001b[1;33m\u001b[0m\u001b[0m\n\u001b[0;32m    830\u001b[0m     \u001b[1;32mdef\u001b[0m \u001b[0mcreate\u001b[0m\u001b[1;33m(\u001b[0m\u001b[0mself\u001b[0m\u001b[1;33m)\u001b[0m\u001b[1;33m:\u001b[0m\u001b[1;33m\u001b[0m\u001b[1;33m\u001b[0m\u001b[0m\n\u001b[1;32m--> 831\u001b[1;33m         \u001b[1;32mif\u001b[0m \u001b[0mself\u001b[0m\u001b[1;33m.\u001b[0m\u001b[0mexists\u001b[0m\u001b[1;33m(\u001b[0m\u001b[1;33m)\u001b[0m\u001b[1;33m:\u001b[0m\u001b[1;33m\u001b[0m\u001b[1;33m\u001b[0m\u001b[0m\n\u001b[0m\u001b[0;32m    832\u001b[0m             \u001b[1;32mif\u001b[0m \u001b[0mself\u001b[0m\u001b[1;33m.\u001b[0m\u001b[0mif_exists\u001b[0m \u001b[1;33m==\u001b[0m \u001b[1;34m\"fail\"\u001b[0m\u001b[1;33m:\u001b[0m\u001b[1;33m\u001b[0m\u001b[1;33m\u001b[0m\u001b[0m\n\u001b[0;32m    833\u001b[0m                 \u001b[1;32mraise\u001b[0m \u001b[0mValueError\u001b[0m\u001b[1;33m(\u001b[0m\u001b[1;34mf\"Table '{self.name}' already exists.\"\u001b[0m\u001b[1;33m)\u001b[0m\u001b[1;33m\u001b[0m\u001b[1;33m\u001b[0m\u001b[0m\n",
      "\u001b[1;32m~\\anaconda3\\envs\\datascienceandres\\lib\\site-packages\\pandas\\io\\sql.py\u001b[0m in \u001b[0;36mexists\u001b[1;34m(self)\u001b[0m\n\u001b[0;32m    813\u001b[0m \u001b[1;33m\u001b[0m\u001b[0m\n\u001b[0;32m    814\u001b[0m     \u001b[1;32mdef\u001b[0m \u001b[0mexists\u001b[0m\u001b[1;33m(\u001b[0m\u001b[0mself\u001b[0m\u001b[1;33m)\u001b[0m\u001b[1;33m:\u001b[0m\u001b[1;33m\u001b[0m\u001b[1;33m\u001b[0m\u001b[0m\n\u001b[1;32m--> 815\u001b[1;33m         \u001b[1;32mreturn\u001b[0m \u001b[0mself\u001b[0m\u001b[1;33m.\u001b[0m\u001b[0mpd_sql\u001b[0m\u001b[1;33m.\u001b[0m\u001b[0mhas_table\u001b[0m\u001b[1;33m(\u001b[0m\u001b[0mself\u001b[0m\u001b[1;33m.\u001b[0m\u001b[0mname\u001b[0m\u001b[1;33m,\u001b[0m \u001b[0mself\u001b[0m\u001b[1;33m.\u001b[0m\u001b[0mschema\u001b[0m\u001b[1;33m)\u001b[0m\u001b[1;33m\u001b[0m\u001b[1;33m\u001b[0m\u001b[0m\n\u001b[0m\u001b[0;32m    816\u001b[0m \u001b[1;33m\u001b[0m\u001b[0m\n\u001b[0;32m    817\u001b[0m     \u001b[1;32mdef\u001b[0m \u001b[0msql_schema\u001b[0m\u001b[1;33m(\u001b[0m\u001b[0mself\u001b[0m\u001b[1;33m)\u001b[0m\u001b[1;33m:\u001b[0m\u001b[1;33m\u001b[0m\u001b[1;33m\u001b[0m\u001b[0m\n",
      "\u001b[1;32m~\\anaconda3\\envs\\datascienceandres\\lib\\site-packages\\pandas\\io\\sql.py\u001b[0m in \u001b[0;36mhas_table\u001b[1;34m(self, name, schema)\u001b[0m\n\u001b[0;32m   2195\u001b[0m         \u001b[0mquery\u001b[0m \u001b[1;33m=\u001b[0m \u001b[1;34mf\"SELECT name FROM sqlite_master WHERE type='table' AND name={wld};\"\u001b[0m\u001b[1;33m\u001b[0m\u001b[1;33m\u001b[0m\u001b[0m\n\u001b[0;32m   2196\u001b[0m \u001b[1;33m\u001b[0m\u001b[0m\n\u001b[1;32m-> 2197\u001b[1;33m         \u001b[1;32mreturn\u001b[0m \u001b[0mlen\u001b[0m\u001b[1;33m(\u001b[0m\u001b[0mself\u001b[0m\u001b[1;33m.\u001b[0m\u001b[0mexecute\u001b[0m\u001b[1;33m(\u001b[0m\u001b[0mquery\u001b[0m\u001b[1;33m,\u001b[0m \u001b[1;33m[\u001b[0m\u001b[0mname\u001b[0m\u001b[1;33m]\u001b[0m\u001b[1;33m)\u001b[0m\u001b[1;33m.\u001b[0m\u001b[0mfetchall\u001b[0m\u001b[1;33m(\u001b[0m\u001b[1;33m)\u001b[0m\u001b[1;33m)\u001b[0m \u001b[1;33m>\u001b[0m \u001b[1;36m0\u001b[0m\u001b[1;33m\u001b[0m\u001b[1;33m\u001b[0m\u001b[0m\n\u001b[0m\u001b[0;32m   2198\u001b[0m \u001b[1;33m\u001b[0m\u001b[0m\n\u001b[0;32m   2199\u001b[0m     \u001b[1;32mdef\u001b[0m \u001b[0mget_table\u001b[0m\u001b[1;33m(\u001b[0m\u001b[0mself\u001b[0m\u001b[1;33m,\u001b[0m \u001b[0mtable_name\u001b[0m\u001b[1;33m:\u001b[0m \u001b[0mstr\u001b[0m\u001b[1;33m,\u001b[0m \u001b[0mschema\u001b[0m\u001b[1;33m:\u001b[0m \u001b[0mstr\u001b[0m \u001b[1;33m|\u001b[0m \u001b[1;32mNone\u001b[0m \u001b[1;33m=\u001b[0m \u001b[1;32mNone\u001b[0m\u001b[1;33m)\u001b[0m\u001b[1;33m:\u001b[0m\u001b[1;33m\u001b[0m\u001b[1;33m\u001b[0m\u001b[0m\n",
      "\u001b[1;32m~\\anaconda3\\envs\\datascienceandres\\lib\\site-packages\\pandas\\io\\sql.py\u001b[0m in \u001b[0;36mexecute\u001b[1;34m(self, *args, **kwargs)\u001b[0m\n\u001b[0;32m   2030\u001b[0m \u001b[1;33m\u001b[0m\u001b[0m\n\u001b[0;32m   2031\u001b[0m             \u001b[0mex\u001b[0m \u001b[1;33m=\u001b[0m \u001b[0mDatabaseError\u001b[0m\u001b[1;33m(\u001b[0m\u001b[1;34mf\"Execution failed on sql '{args[0]}': {exc}\"\u001b[0m\u001b[1;33m)\u001b[0m\u001b[1;33m\u001b[0m\u001b[1;33m\u001b[0m\u001b[0m\n\u001b[1;32m-> 2032\u001b[1;33m             \u001b[1;32mraise\u001b[0m \u001b[0mex\u001b[0m \u001b[1;32mfrom\u001b[0m \u001b[0mexc\u001b[0m\u001b[1;33m\u001b[0m\u001b[1;33m\u001b[0m\u001b[0m\n\u001b[0m\u001b[0;32m   2033\u001b[0m \u001b[1;33m\u001b[0m\u001b[0m\n\u001b[0;32m   2034\u001b[0m     \u001b[1;33m@\u001b[0m\u001b[0mstaticmethod\u001b[0m\u001b[1;33m\u001b[0m\u001b[1;33m\u001b[0m\u001b[0m\n",
      "\u001b[1;31mDatabaseError\u001b[0m: Execution failed on sql 'SELECT name FROM sqlite_master WHERE type='table' AND name=?;': not all arguments converted during string formatting"
     ]
    }
   ],
   "source": [
    "table_name = 'tb_clientes'\n",
    "df_cliente.to_sql(name=table_name, con=connm, if_exists='append', index=False)\n",
    "connm.commit()"
   ]
  },
  {
   "cell_type": "code",
   "execution_count": null,
   "id": "cc5a083d",
   "metadata": {},
   "outputs": [],
   "source": [
    "cursorm.execute(\"SELECT * FROM tb_clientes\")               #Envía un comando de consulta\n",
    "registro = cursorm.fetchone()               #Extrae una registro de la última consulta\n",
    "print(registro)"
   ]
  },
  {
   "cell_type": "markdown",
   "id": "dfa9db73",
   "metadata": {},
   "source": [
    "#### Tabla productos"
   ]
  },
  {
   "cell_type": "code",
   "execution_count": null,
   "id": "7d97c4b8",
   "metadata": {},
   "outputs": [],
   "source": [
    "for row in df_productos.itertuples():#.iterrows():\n",
    "    #print(row)\n",
    "    insertp = f\"INSERT INTO tb_productos (product_id,product_category_id,product_name,product_price,category_name) values('{row[1]}','{row[2]}','{row[3]}','{row[4]}','{row[5]}')\"\n",
    "    cursorm.execute(insertp)\n",
    "    \n",
    "conn.commit()"
   ]
  },
  {
   "cell_type": "code",
   "execution_count": null,
   "id": "1526959b",
   "metadata": {},
   "outputs": [],
   "source": [
    "cursorm.execute(\"SELECT * FROM tb_productos\")               #Envía un comando de consulta\n",
    "registro = cursorm.fetchone()               #Extrae una registro de la última consulta\n",
    "print(registro)"
   ]
  },
  {
   "cell_type": "code",
   "execution_count": null,
   "id": "005a4428",
   "metadata": {},
   "outputs": [],
   "source": [
    "table_name = 'tb_productos'\n",
    "df_productos.to_sql(name=table_name, con=connm, if_exists='append', index=False)\n",
    "connm.commit()"
   ]
  },
  {
   "cell_type": "code",
   "execution_count": null,
   "id": "f0a65a00",
   "metadata": {},
   "outputs": [],
   "source": [
    "cursorm.execute(\"SELECT * FROM tb_productos\")               #Envía un comando de consulta\n",
    "registro = cursorm.fetchone()               #Extrae una registro de la última consulta\n",
    "print(registro)"
   ]
  }
 ],
 "metadata": {
  "kernelspec": {
   "display_name": "Python 3 (ipykernel)",
   "language": "python",
   "name": "python3"
  },
  "language_info": {
   "codemirror_mode": {
    "name": "ipython",
    "version": 3
   },
   "file_extension": ".py",
   "mimetype": "text/x-python",
   "name": "python",
   "nbconvert_exporter": "python",
   "pygments_lexer": "ipython3",
   "version": "3.9.7"
  }
 },
 "nbformat": 4,
 "nbformat_minor": 5
}
